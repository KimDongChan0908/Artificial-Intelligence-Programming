{
  "nbformat": 4,
  "nbformat_minor": 0,
  "metadata": {
    "colab": {
      "provenance": [],
      "authorship_tag": "ABX9TyMbX4a5LHxe8HiO792EdRzT",
      "include_colab_link": true
    },
    "kernelspec": {
      "name": "python3",
      "display_name": "Python 3"
    },
    "language_info": {
      "name": "python"
    }
  },
  "cells": [
    {
      "cell_type": "markdown",
      "metadata": {
        "id": "view-in-github",
        "colab_type": "text"
      },
      "source": [
        "<a href=\"https://colab.research.google.com/github/KimDongChan0908/Artificial-Intelligence-Programming/blob/Week-3-Class/Python_Data_Type_.ipynb\" target=\"_parent\"><img src=\"https://colab.research.google.com/assets/colab-badge.svg\" alt=\"Open In Colab\"/></a>"
      ]
    },
    {
      "cell_type": "code",
      "source": [
        "for c in [np, torch, tf]:\n",
        "  print(c.__name__, c.__version__)\n",
        "\n",
        "#numpy, torch, tensorflow의 version을 확인하는 습관을 들일것."
      ],
      "metadata": {
        "colab": {
          "base_uri": "https://localhost:8080/"
        },
        "id": "2kIGLKrY7rqJ",
        "outputId": "13ce5e12-d737-4f03-de1f-3d63b0ca7462"
      },
      "execution_count": 11,
      "outputs": [
        {
          "output_type": "stream",
          "name": "stdout",
          "text": [
            "numpy 1.25.2\n",
            "torch 2.2.1+cu121\n",
            "tensorflow 2.15.0\n"
          ]
        }
      ]
    },
    {
      "cell_type": "markdown",
      "source": [
        "\"Unboxed type\"은 컴퓨터 과학에서 사용되는 용어로, 메모리 상에서 추가적인 포인터나 래퍼(wrapper) 없이 값을 직접 저장하는 데이터 타입을 가리킵니다.\n",
        "\n",
        "----\n",
        "\n",
        "Python에서는 기본 numeric type 들도 모조리 object 이기 때문에 reference count와 같은 meta data 및 자신의 type에 따른 method를 제공한다."
      ],
      "metadata": {
        "id": "xZ2s8qlzKOWm"
      }
    },
    {
      "cell_type": "code",
      "source": [
        "import tensorflow as tf\n",
        "import torch\n",
        "import numpy as np\n",
        "\n",
        "t = (1,2,3,4)\n",
        "\n",
        "a = np.array(t)\n",
        "\n",
        "tensor = tf.constant(t)\n",
        "\n",
        "p = torch.tensor(t)\n",
        "\n",
        "print(a.ndim)\n",
        "print(a.shape)\n",
        "print(a.itemsize)\n",
        "print(a.size)\n",
        "print(a.dtype)\n",
        "\n",
        "print(tf.rank(tensor))\n",
        "print(tensor.ndim)\n",
        "print(tensor.dtype)\n",
        "\n",
        "print(p.ndim)\n",
        "print(p.shape)\n",
        "print(p.itemsize)\n",
        "print(p.size())\n",
        "print(p.dtype)"
      ],
      "metadata": {
        "colab": {
          "base_uri": "https://localhost:8080/"
        },
        "id": "36t8lsRKfCDN",
        "outputId": "3c169af8-1299-4f24-ab22-2013e2fe3ddb"
      },
      "execution_count": 2,
      "outputs": [
        {
          "output_type": "stream",
          "name": "stdout",
          "text": [
            "1\n",
            "(4,)\n",
            "8\n",
            "4\n",
            "int64\n",
            "tf.Tensor(1, shape=(), dtype=int32)\n",
            "1\n",
            "<dtype: 'int32'>\n",
            "1\n",
            "torch.Size([4])\n",
            "8\n",
            "torch.Size([4])\n",
            "torch.int64\n"
          ]
        }
      ]
    },
    {
      "cell_type": "markdown",
      "source": [
        "attribute란, dtyoe, ndim, shape 등이 있음.\n",
        "\n",
        "torch, numpy에선 지원하는 것들로는 itemsize(element 하나가 차지하는 bytes 크기), size or size() : numpy는 그냥 attribute로 pytorch에선 method로 전체 element를 반환함.\n",
        "\n",
        "-----\n",
        "Python의 Sequence Type 인 list, tuple을 통해 Tensor 인스턴스를 만드는 것이 가능함.\n",
        "\n",
        "np.array, torch.tensor, tf_constant(tf.Variable)"
      ],
      "metadata": {
        "id": "nLkpdw2LlRxs"
      }
    },
    {
      "cell_type": "code",
      "source": [
        "import tensorflow as tf\n",
        "\n",
        "t = (10,20,40,70)\n",
        "\n",
        "a = np.array(t)\n",
        "a_tf = tf.Variable(t)\n",
        "a_torch = torch.tensor(t)"
      ],
      "metadata": {
        "id": "6KVoCQKancQS"
      },
      "execution_count": 5,
      "outputs": []
    },
    {
      "cell_type": "markdown",
      "source": [
        "torch와 tensorflow의 tensor instance들은 numpy의 (ndarray n-dimension array) instance로 변환가능함."
      ],
      "metadata": {
        "id": "LZUNfrEV0CH9"
      }
    },
    {
      "cell_type": "code",
      "source": [
        "a1_np = a_tf.numpy()\n",
        "a2_np = a_torch.numpy()"
      ],
      "metadata": {
        "id": "AjiEGdTNo66q"
      },
      "execution_count": 6,
      "outputs": []
    },
    {
      "cell_type": "markdown",
      "source": [
        "※ torch의 경우 ndarray 인스턴스는 원래의 tensor와 connected된 상태임. -> cuda 환경에서 돌아가는지 확인해볼 필요가 있음 (cpu에서는 돌아가지만, gpu에서 동작하지 않음)"
      ],
      "metadata": {
        "id": "vFOxhfDY1C6u"
      }
    },
    {
      "cell_type": "code",
      "source": [
        "a2_np[3] = 789\n",
        "print(a2_np)\n",
        "print(a_torch)"
      ],
      "metadata": {
        "colab": {
          "base_uri": "https://localhost:8080/"
        },
        "id": "g_2oJH0s1An2",
        "outputId": "8d439734-38fc-475d-a832-047b20065f29"
      },
      "execution_count": 7,
      "outputs": [
        {
          "output_type": "stream",
          "name": "stdout",
          "text": [
            "[ 10  20  40 789]\n",
            "tensor([ 10,  20,  40, 789])\n"
          ]
        }
      ]
    },
    {
      "cell_type": "markdown",
      "source": [
        "※ tensorflow의 tensor인 tf.constant instance는 immutable(불변)이기 때문에, ndarray 인스턴스로 얻고나서 데이터를 변경시켜도 tensorflow의 tensor 인스터스에는 영향을 주지 않음!"
      ],
      "metadata": {
        "id": "gzK81o_y5r-O"
      }
    },
    {
      "cell_type": "code",
      "source": [
        "print(a1_np)\n",
        "print(a_tf)\n",
        "a1_np[2] =789\n",
        "print(a1_np)\n",
        "print(a_tf)\n",
        "#numpy에 대해서 copy본에 대해서 변경이 되고 기존 tf.tensor는 변경되지 않는다"
      ],
      "metadata": {
        "colab": {
          "base_uri": "https://localhost:8080/"
        },
        "id": "ToeQxEYn2g_h",
        "outputId": "799c55e5-1683-4703-c62c-b8858b50f25f"
      },
      "execution_count": 8,
      "outputs": [
        {
          "output_type": "stream",
          "name": "stdout",
          "text": [
            "[10 20 40 70]\n",
            "<tf.Variable 'Variable:0' shape=(4,) dtype=int32, numpy=array([10, 20, 40, 70], dtype=int32)>\n",
            "[ 10  20 789  70]\n",
            "<tf.Variable 'Variable:0' shape=(4,) dtype=int32, numpy=array([10, 20, 40, 70], dtype=int32)>\n"
          ]
        }
      ]
    },
    {
      "cell_type": "code",
      "source": [
        "print(a_torch)\n",
        "a3_copy = a_torch.numpy().copy() #copy()를 써서 ndarray 인스턴스를 연결되지 않은상태로 얻어옴\n",
        "a3_copy[2] = 190\n",
        "print(a3_copy) #실행결과가 2번째 index가 190으로 변했지만, torch는 변하지않은것을 관찰할수 있음.\n",
        "print(a_torch)"
      ],
      "metadata": {
        "colab": {
          "base_uri": "https://localhost:8080/"
        },
        "id": "PigUH4uM7l5N",
        "outputId": "5b321809-0015-4c41-a7cf-1307efb697cb"
      },
      "execution_count": 12,
      "outputs": [
        {
          "output_type": "stream",
          "name": "stdout",
          "text": [
            "tensor([ 10,  20,  40, 789])\n",
            "[ 10  20 190 789]\n",
            "tensor([ 10,  20,  40, 789])\n"
          ]
        }
      ]
    },
    {
      "cell_type": "code",
      "source": [
        "t = (100,200,300,400)\n",
        "\n",
        "a = np.array(t)\n",
        "a_tf = tf.constant(a)\n",
        "a_torch = torch.tensor(a)"
      ],
      "metadata": {
        "id": "XBsuKjmL9Mz5"
      },
      "execution_count": 13,
      "outputs": []
    },
    {
      "cell_type": "markdown",
      "source": [
        "tf.convert_to_tensor와 torch.from_numpy를 이용할 수 있음.\n",
        "numpy를 가지고, tensorflow와 tensor인스턴스를 얻을 수 있음"
      ],
      "metadata": {
        "id": "_OyJzvLx-A7M"
      }
    },
    {
      "cell_type": "code",
      "source": [
        "a_tf = tf.convert_to_tensor(a)\n",
        "a_torch = torch.from_numpy(a)\n",
        "print(a_tf)\n",
        "print(a_torch)"
      ],
      "metadata": {
        "colab": {
          "base_uri": "https://localhost:8080/"
        },
        "id": "IgmSTScE94y9",
        "outputId": "26d46ed1-45f4-4ad8-ecbe-daae7f20712b"
      },
      "execution_count": 14,
      "outputs": [
        {
          "output_type": "stream",
          "name": "stdout",
          "text": [
            "tf.Tensor([100 200 300 400], shape=(4,), dtype=int64)\n",
            "tensor([100, 200, 300, 400])\n"
          ]
        }
      ]
    },
    {
      "cell_type": "code",
      "source": [
        "a_torch[1] = 239\n",
        "print(a_torch)\n",
        "print(a)"
      ],
      "metadata": {
        "colab": {
          "base_uri": "https://localhost:8080/"
        },
        "id": "tI0YF5VY-cU_",
        "outputId": "e34ad865-e105-4c3d-ce80-630ab8665d14"
      },
      "execution_count": 15,
      "outputs": [
        {
          "output_type": "stream",
          "name": "stdout",
          "text": [
            "tensor([100, 239, 300, 400])\n",
            "[100 239 300 400]\n"
          ]
        }
      ]
    },
    {
      "cell_type": "markdown",
      "source": [
        "※ 바꾸는 원본 tensor인스턴스를 기반으로 원하는 dtpe로 구성된 새로운 tensor 인스턴스가 생성됨."
      ],
      "metadata": {
        "id": "FyYeeC-g_-FX"
      }
    },
    {
      "cell_type": "code",
      "source": [
        "a = np.ones((3,3)) # 3 By 3 Matrix (1,1,1) ~ (1,1,1)\n",
        "b = np.uint8(a)\n",
        "c = a.astype('float32')\n",
        "\n",
        "print(c)\n",
        "\n",
        "print(id(a),a.dtype)\n",
        "print(id(b),b.dtype)\n",
        "print(id(c),c.dtype)"
      ],
      "metadata": {
        "colab": {
          "base_uri": "https://localhost:8080/"
        },
        "id": "HjedLtcx_92p",
        "outputId": "cb575dc8-d6eb-4aa2-b3f0-cbc0b756e0a6"
      },
      "execution_count": 16,
      "outputs": [
        {
          "output_type": "stream",
          "name": "stdout",
          "text": [
            "[[1. 1. 1.]\n",
            " [1. 1. 1.]\n",
            " [1. 1. 1.]]\n",
            "133138122642448 float64\n",
            "133138122642736 uint8\n",
            "133138122646288 float32\n"
          ]
        }
      ]
    },
    {
      "cell_type": "code",
      "source": [
        "a_torch = torch.rand(3,4)\n",
        "b_torch = a_torch.to(torch.uint8) #torch.tensor.to(desired_dtype)\n",
        "c_torch = a_torch.type(torch.float64)\n",
        "\n",
        "print(b_torch)\n",
        "print(c_torch)\n",
        "print(id(a_torch), a_torch.dtype)\n",
        "print(id(b_torch), b_torch.dtype)\n",
        "print(id(c_torch), c_torch.dtype)\n",
        "\n",
        "b_torch[0,1] = 9\n",
        "c_torch [0,0] = 1000\n",
        "\n",
        "print(a_torch)\n",
        "print(b_torch)\n",
        "print(c_torch)"
      ],
      "metadata": {
        "colab": {
          "base_uri": "https://localhost:8080/"
        },
        "id": "7BuOFwrLA9hl",
        "outputId": "f206c53e-c077-49bc-9518-d36685639c85"
      },
      "execution_count": 19,
      "outputs": [
        {
          "output_type": "stream",
          "name": "stdout",
          "text": [
            "tensor([[0, 0, 0, 0],\n",
            "        [0, 0, 0, 0],\n",
            "        [0, 0, 0, 0]], dtype=torch.uint8)\n",
            "tensor([[0.0060, 0.9311, 0.1067, 0.2873],\n",
            "        [0.9065, 0.6115, 0.2931, 0.4839],\n",
            "        [0.8441, 0.0527, 0.0032, 0.2181]], dtype=torch.float64)\n",
            "133137879151168 torch.float32\n",
            "133137879140368 torch.uint8\n",
            "133137879141168 torch.float64\n",
            "tensor([[0.0060, 0.9311, 0.1067, 0.2873],\n",
            "        [0.9065, 0.6115, 0.2931, 0.4839],\n",
            "        [0.8441, 0.0527, 0.0032, 0.2181]])\n",
            "tensor([[0, 9, 0, 0],\n",
            "        [0, 0, 0, 0],\n",
            "        [0, 0, 0, 0]], dtype=torch.uint8)\n",
            "tensor([[1.0000e+03, 9.3110e-01, 1.0673e-01, 2.8732e-01],\n",
            "        [9.0655e-01, 6.1146e-01, 2.9311e-01, 4.8385e-01],\n",
            "        [8.4408e-01, 5.2678e-02, 3.2336e-03, 2.1808e-01]], dtype=torch.float64)\n"
          ]
        }
      ]
    },
    {
      "cell_type": "code",
      "source": [
        "a_tf = tf.random.uniform(shape=(3,4))\n",
        "c_tf = tf.dtypes.cast(a_tf, tf.float64)\n",
        "\n",
        "print(c_tf)\n",
        "print(id(a_tf), a_tf.dtype)\n",
        "print(id(c_tf), c_tf.dtype)"
      ],
      "metadata": {
        "colab": {
          "base_uri": "https://localhost:8080/"
        },
        "id": "U7hW3WkLCrBK",
        "outputId": "c490bae8-2b58-4218-d58f-40d0b065ff4b"
      },
      "execution_count": 21,
      "outputs": [
        {
          "output_type": "stream",
          "name": "stdout",
          "text": [
            "tf.Tensor(\n",
            "[[0.15070462 0.49760282 0.90172756 0.90589976]\n",
            " [0.08941305 0.86534238 0.26071417 0.32211864]\n",
            " [0.953614   0.4076432  0.01153767 0.62054801]], shape=(3, 4), dtype=float64)\n",
            "133138113723232 <dtype: 'float32'>\n",
            "133138113719536 <dtype: 'float64'>\n"
          ]
        }
      ]
    },
    {
      "cell_type": "markdown",
      "source": [
        "※ shape 는 tensor의 각 축의 크기를 나타내는 sequene type의 인스턴스임.(텐서의 형태를 지정하는데 사용)\n",
        "\n",
        "----------------\n",
        "\n",
        "numpy.reshape(numpy 모듈의 reshape 함수 이용) , numpy.numpy.array.reshape (numpy 의 ndarray인스턴스의 reshape 메서드를 이용하는 차이점이 존재)\n",
        "\n",
        "torch.reshape(torch 모듈의 reshape 함수 이용), torch.tensor.reshape(tensor 인스턴스의 reshape 메서드 사용)\n",
        "\n",
        "--------\n",
        "인스턴스와 모듈의 차이\n",
        "- 인스턴스 : 스턴스는 클래스(class)를 기반으로 생성된 객체(object)를 말합니다.\n",
        "\n",
        "- 모듈 : 모듈은 파이썬에서 코드를 구성하는 단위입니다. 일반적으로 하나의 파일에 하나의 모듈이 정의됩니다."
      ],
      "metadata": {
        "id": "BMnKVVs7Euky"
      }
    },
    {
      "cell_type": "code",
      "source": [],
      "metadata": {
        "id": "EcE1M5hNDiQA"
      },
      "execution_count": null,
      "outputs": []
    }
  ]
}