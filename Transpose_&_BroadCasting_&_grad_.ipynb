{
  "nbformat": 4,
  "nbformat_minor": 0,
  "metadata": {
    "colab": {
      "provenance": [],
      "gpuType": "T4",
      "authorship_tag": "ABX9TyN+uhkje9a21f4G7inGW/EK",
      "include_colab_link": true
    },
    "kernelspec": {
      "name": "python3",
      "display_name": "Python 3"
    },
    "language_info": {
      "name": "python"
    },
    "accelerator": "GPU"
  },
  "cells": [
    {
      "cell_type": "markdown",
      "metadata": {
        "id": "view-in-github",
        "colab_type": "text"
      },
      "source": [
        "<a href=\"https://colab.research.google.com/github/KimDongChan0908/Artificial-Intelligence-Programming/blob/Week-4-Class/Transpose_%26_BroadCasting_%26_grad_.ipynb\" target=\"_parent\"><img src=\"https://colab.research.google.com/assets/colab-badge.svg\" alt=\"Open In Colab\"/></a>"
      ]
    },
    {
      "cell_type": "code",
      "execution_count": 1,
      "metadata": {
        "colab": {
          "base_uri": "https://localhost:8080/"
        },
        "id": "Xf9hMD7cCGcc",
        "outputId": "cec4772a-a264-4368-fe7a-6ff546888753"
      },
      "outputs": [
        {
          "output_type": "stream",
          "name": "stdout",
          "text": [
            "torch 2.2.1+cu121\n",
            "tensorflow 2.15.0\n",
            "numpy 1.25.2\n"
          ]
        }
      ],
      "source": [
        "import torch\n",
        "import tensorflow as tf\n",
        "import numpy as np\n",
        "\n",
        "for i in [torch, tf, np]:\n",
        "  print(i.__name__, i.__version__)"
      ]
    },
    {
      "cell_type": "markdown",
      "source": [
        "#Transpose\n",
        "\n"
      ],
      "metadata": {
        "id": "L5YuSAPVEvuL"
      }
    },
    {
      "cell_type": "markdown",
      "source": [
        "Transpose Matrix(전치행렬) = 기존 행렬 A의 행, 열값을 열 행값으로 바꿔주는 것이다.\n",
        "\n",
        "\n",
        "If) Tensor의 rank가 2보다 클 경우 rank 의 수만큼 축이 존재하니, 여러 축들 중에서 2개의 서로의 위치를 바꾸는것이라고 보면 된다."
      ],
      "metadata": {
        "id": "z3z4nfKSFFt5"
      }
    },
    {
      "cell_type": "code",
      "source": [
        "a = np.random.rand(2,4)\n",
        "t1 = np.transpose(a)\n",
        "t2 = a.T\n",
        "\n",
        "print(a.shape)\n",
        "print(t1.shape)\n",
        "print(t2.shape)\n",
        "\n",
        "print('---------')\n",
        "print(a)\n",
        "print(t2)\n",
        "t2[0,1] = 102\n",
        "\n",
        "print('---------')\n",
        "print(a)\n",
        "print(t2)\n",
        "print(a[1,0])\n",
        "print(t1[0,1])\n",
        "print(t2[0,1])"
      ],
      "metadata": {
        "colab": {
          "base_uri": "https://localhost:8080/"
        },
        "id": "ANxzuQsxD7fe",
        "outputId": "07a5d726-983d-44e8-a949-2d0c0d97030b"
      },
      "execution_count": 9,
      "outputs": [
        {
          "output_type": "stream",
          "name": "stdout",
          "text": [
            "(2, 4)\n",
            "(4, 2)\n",
            "(4, 2)\n",
            "---------\n",
            "[[0.74899793 0.54179626 0.3652081  0.57094279]\n",
            " [0.50815347 0.89857484 0.31420243 0.92751591]]\n",
            "[[0.74899793 0.50815347]\n",
            " [0.54179626 0.89857484]\n",
            " [0.3652081  0.31420243]\n",
            " [0.57094279 0.92751591]]\n",
            "---------\n",
            "[[  0.74899793   0.54179626   0.3652081    0.57094279]\n",
            " [102.           0.89857484   0.31420243   0.92751591]]\n",
            "[[  0.74899793 102.        ]\n",
            " [  0.54179626   0.89857484]\n",
            " [  0.3652081    0.31420243]\n",
            " [  0.57094279   0.92751591]]\n",
            "102.0\n",
            "102.0\n",
            "102.0\n"
          ]
        }
      ]
    },
    {
      "cell_type": "code",
      "source": [
        "a_torch = torch.tensor(a.astype(np.float32))\n",
        "a_torch"
      ],
      "metadata": {
        "colab": {
          "base_uri": "https://localhost:8080/"
        },
        "id": "8YrCWxbjF9ua",
        "outputId": "9f89899f-6d70-4773-d1fd-a9a12e7acb01"
      },
      "execution_count": 10,
      "outputs": [
        {
          "output_type": "execute_result",
          "data": {
            "text/plain": [
              "tensor([[  0.7490,   0.5418,   0.3652,   0.5709],\n",
              "        [102.0000,   0.8986,   0.3142,   0.9275]])"
            ]
          },
          "metadata": {},
          "execution_count": 10
        }
      ]
    },
    {
      "cell_type": "code",
      "source": [
        "a_t = a.T\n",
        "a_t\n",
        "\n",
        "print(id(a_t))\n",
        "print(id(a)) #저장된 메모리의 주소를 확인할 수 있음"
      ],
      "metadata": {
        "colab": {
          "base_uri": "https://localhost:8080/"
        },
        "id": "r01z-Kc1K0_l",
        "outputId": "493b226b-288c-4f6b-8323-67fa070fffa4"
      },
      "execution_count": 13,
      "outputs": [
        {
          "output_type": "stream",
          "name": "stdout",
          "text": [
            "136987164703792\n",
            "136987167669008\n"
          ]
        }
      ]
    },
    {
      "cell_type": "code",
      "source": [
        "print(a_t.ctypes.data)\n",
        "print(a.ctypes.data) #Memory 버퍼의 시작 위치"
      ],
      "metadata": {
        "colab": {
          "base_uri": "https://localhost:8080/"
        },
        "id": "Cv41803mLvOW",
        "outputId": "0cf1d470-4e0f-46f7-cf94-16eb19f1e708"
      },
      "execution_count": 14,
      "outputs": [
        {
          "output_type": "stream",
          "name": "stdout",
          "text": [
            "100061984552112\n",
            "100061984552112\n"
          ]
        }
      ]
    },
    {
      "cell_type": "code",
      "source": [
        "b = a_torch.T\n",
        "b\n",
        "\n",
        "c = torch.transpose(a_torch, 0,1)\n",
        "c"
      ],
      "metadata": {
        "colab": {
          "base_uri": "https://localhost:8080/"
        },
        "id": "2oamR81lMSWP",
        "outputId": "77c9b412-10d0-43c7-ef04-4aeb55afc301"
      },
      "execution_count": 15,
      "outputs": [
        {
          "output_type": "execute_result",
          "data": {
            "text/plain": [
              "tensor([[  0.7490, 102.0000],\n",
              "        [  0.5418,   0.8986],\n",
              "        [  0.3652,   0.3142],\n",
              "        [  0.5709,   0.9275]])"
            ]
          },
          "metadata": {},
          "execution_count": 15
        }
      ]
    },
    {
      "cell_type": "code",
      "source": [
        "print(a_torch.is_contiguous())\n",
        "print(b.is_contiguous()) #Transpose를 한 이후에는 한칸 넘어가는것이 행을 넘어가는것이므로 contiguous 하지않음."
      ],
      "metadata": {
        "colab": {
          "base_uri": "https://localhost:8080/"
        },
        "id": "eYGhF7TFUlJL",
        "outputId": "3c715b74-a944-41d3-8a73-83ae0c4c3001"
      },
      "execution_count": 18,
      "outputs": [
        {
          "output_type": "stream",
          "name": "stdout",
          "text": [
            "True\n",
            "False\n"
          ]
        }
      ]
    },
    {
      "cell_type": "code",
      "source": [
        "a_torch.view(1,-1) #torch.Size([1,8])로 변경"
      ],
      "metadata": {
        "colab": {
          "base_uri": "https://localhost:8080/"
        },
        "id": "OF9Wrb43Uo60",
        "outputId": "9699dd59-aa52-46a0-ad6c-3e45b829363f"
      },
      "execution_count": 19,
      "outputs": [
        {
          "output_type": "execute_result",
          "data": {
            "text/plain": [
              "tensor([[  0.7490,   0.5418,   0.3652,   0.5709, 102.0000,   0.8986,   0.3142,\n",
              "           0.9275]])"
            ]
          },
          "metadata": {},
          "execution_count": 19
        }
      ]
    },
    {
      "cell_type": "markdown",
      "source": [
        "#BroadCasting"
      ],
      "metadata": {
        "id": "zfMMLO35DnuQ"
      }
    },
    {
      "cell_type": "code",
      "source": [
        "import numpy as np\n",
        "a = np.ones((2,3,3)) #2,3,3 shape의 텐서생성\n",
        "b = np.ones((1,3))\n",
        "\n",
        "c = a + b #BroadCasting이 되어 b의 텐서가 left로 부터 1이 생성되고 (1,1,3) 에서 1들이 각자의 텐서에 맞게끔 BroadCasting\n",
        "print(c.shape)"
      ],
      "metadata": {
        "colab": {
          "base_uri": "https://localhost:8080/"
        },
        "id": "-itdfjItVx1J",
        "outputId": "973aae43-6dd9-4d29-8bd3-456d9e645c7a"
      },
      "execution_count": 2,
      "outputs": [
        {
          "output_type": "stream",
          "name": "stdout",
          "text": [
            "(2, 3, 3)\n"
          ]
        }
      ]
    },
    {
      "cell_type": "code",
      "source": [
        "print(b)\n",
        "np.transpose(b, (1,0))"
      ],
      "metadata": {
        "colab": {
          "base_uri": "https://localhost:8080/"
        },
        "id": "2tZxyL8UXM73",
        "outputId": "90a444ff-8d8a-4424-939f-708f47ab1769"
      },
      "execution_count": 4,
      "outputs": [
        {
          "output_type": "stream",
          "name": "stdout",
          "text": [
            "[[1. 1. 1.]]\n"
          ]
        },
        {
          "output_type": "execute_result",
          "data": {
            "text/plain": [
              "array([[1.],\n",
              "       [1.],\n",
              "       [1.]])"
            ]
          },
          "metadata": {},
          "execution_count": 4
        }
      ]
    },
    {
      "cell_type": "markdown",
      "source": [
        "#torch cuda"
      ],
      "metadata": {
        "id": "c5rLk8MlD6-c"
      }
    },
    {
      "cell_type": "code",
      "source": [
        "!nvidia-smi"
      ],
      "metadata": {
        "colab": {
          "base_uri": "https://localhost:8080/"
        },
        "id": "gGhKl_TDDusM",
        "outputId": "947e7585-7a67-4d13-ef01-9e1378059735"
      },
      "execution_count": 1,
      "outputs": [
        {
          "output_type": "stream",
          "name": "stdout",
          "text": [
            "Fri Apr  5 11:41:36 2024       \n",
            "+---------------------------------------------------------------------------------------+\n",
            "| NVIDIA-SMI 535.104.05             Driver Version: 535.104.05   CUDA Version: 12.2     |\n",
            "|-----------------------------------------+----------------------+----------------------+\n",
            "| GPU  Name                 Persistence-M | Bus-Id        Disp.A | Volatile Uncorr. ECC |\n",
            "| Fan  Temp   Perf          Pwr:Usage/Cap |         Memory-Usage | GPU-Util  Compute M. |\n",
            "|                                         |                      |               MIG M. |\n",
            "|=========================================+======================+======================|\n",
            "|   0  Tesla T4                       Off | 00000000:00:04.0 Off |                    0 |\n",
            "| N/A   66C    P8              11W /  70W |      0MiB / 15360MiB |      0%      Default |\n",
            "|                                         |                      |                  N/A |\n",
            "+-----------------------------------------+----------------------+----------------------+\n",
            "                                                                                         \n",
            "+---------------------------------------------------------------------------------------+\n",
            "| Processes:                                                                            |\n",
            "|  GPU   GI   CI        PID   Type   Process name                            GPU Memory |\n",
            "|        ID   ID                                                             Usage      |\n",
            "|=======================================================================================|\n",
            "|  No running processes found                                                           |\n",
            "+---------------------------------------------------------------------------------------+\n"
          ]
        }
      ]
    },
    {
      "cell_type": "code",
      "source": [
        "import torch\n",
        "print(torch.cuda.is_available())\n",
        "print(torch.cuda.device_count()) #사용 가능한 CUDA 장치의 수를 반환하는 PyTorch 함수다.\n",
        "print(torch.cuda.current_device()) #현재 사용중인 CUDA 장치의 인덱스를 반환한다.\n",
        "print(torch.cuda.get_device_name())"
      ],
      "metadata": {
        "colab": {
          "base_uri": "https://localhost:8080/"
        },
        "id": "FaIWlZ2bEGyd",
        "outputId": "345108a4-bdf3-40fe-d7a9-6a059008a51d"
      },
      "execution_count": 3,
      "outputs": [
        {
          "output_type": "stream",
          "name": "stdout",
          "text": [
            "True\n",
            "1\n",
            "0\n",
            "Tesla T4\n"
          ]
        }
      ]
    },
    {
      "cell_type": "code",
      "source": [
        "a = torch.tensor([2,2,3])\n",
        "print(a.device)\n",
        "\n",
        "b = a.cpu()\n",
        "print(b.is_cpu)\n",
        "\n",
        "c = a.to(device = 'cuda:0')\n",
        "print(c.is_cuda)"
      ],
      "metadata": {
        "colab": {
          "base_uri": "https://localhost:8080/"
        },
        "id": "-HBUarbYEo0w",
        "outputId": "839e4e41-7fbc-410c-e5ed-e01de2312af9"
      },
      "execution_count": 6,
      "outputs": [
        {
          "output_type": "stream",
          "name": "stdout",
          "text": [
            "cpu\n",
            "True\n",
            "True\n"
          ]
        }
      ]
    },
    {
      "cell_type": "code",
      "source": [
        "for i in (a,b,c):\n",
        "  print(i.dtype, i)\n",
        "\n",
        "b[1] = 999\n",
        "print(a)\n",
        "print(b)\n",
        "print(c)"
      ],
      "metadata": {
        "colab": {
          "base_uri": "https://localhost:8080/"
        },
        "id": "F31dP2rMGQ6d",
        "outputId": "aaf65658-7b0d-48a6-a4f8-a5a3b017980d"
      },
      "execution_count": 9,
      "outputs": [
        {
          "output_type": "stream",
          "name": "stdout",
          "text": [
            "torch.int64 tensor([2, 2, 3])\n",
            "torch.int64 tensor([2, 2, 3])\n",
            "torch.int64 tensor([2, 2, 3], device='cuda:0')\n",
            "tensor([  2, 999,   3])\n",
            "tensor([  2, 999,   3])\n",
            "tensor([2, 2, 3], device='cuda:0')\n"
          ]
        }
      ]
    },
    {
      "cell_type": "code",
      "source": [
        "import torch\n",
        "\n",
        "x = torch.randn(3,3)\n",
        "x_storage = x.storage()\n",
        "\n",
        "print(x.storage)"
      ],
      "metadata": {
        "colab": {
          "base_uri": "https://localhost:8080/"
        },
        "id": "yB2RCNyoG80h",
        "outputId": "e6f44a14-aa4f-4b00-d476-bc3169cb442d"
      },
      "execution_count": 10,
      "outputs": [
        {
          "output_type": "stream",
          "name": "stdout",
          "text": [
            "<bound method Tensor.storage of tensor([[ 0.1936,  0.6649,  0.5828],\n",
            "        [-1.2062,  1.7206, -0.4499],\n",
            "        [-1.9392,  0.4317, -0.3251]])>\n"
          ]
        },
        {
          "output_type": "stream",
          "name": "stderr",
          "text": [
            "<ipython-input-10-7ae0ce49b08c>:4: UserWarning: TypedStorage is deprecated. It will be removed in the future and UntypedStorage will be the only storage class. This should only matter to you if you are using storages directly.  To access UntypedStorage directly, use tensor.untyped_storage() instead of tensor.storage()\n",
            "  x_storage = x.storage()\n"
          ]
        }
      ]
    },
    {
      "cell_type": "code",
      "source": [
        "import torch\n",
        "\n",
        "a = torch.tensor([range( i, i+3) for i in [0,3,6]])\n",
        "a_sub = a[1:,0] #인덱스 1부터 마지막까지 선택하고, 두번재 축에서는 인덱스 0인 요소만 선택한다.\n",
        "\n",
        "print(a.is_contiguous(), a_sub.is_contiguous())\n",
        "print(a.storage().data_ptr() == a_sub.storage().data_ptr())\n",
        "print(id(a.storage()) == id(a_sub.storage()))\n",
        "print(f\"{a.shape = }, {a.size() = }, {a.stride()=}, {a.storage_offset() =}\")\n",
        "print(f\"{a_sub.shape=}, {a_sub.size()=}, {a_sub.stride()=}, {a_sub.storage_offset()=}\")"
      ],
      "metadata": {
        "colab": {
          "base_uri": "https://localhost:8080/"
        },
        "id": "jVa22-9zHnpO",
        "outputId": "ad3007ec-bff3-413d-ae3c-f2ecab150985"
      },
      "execution_count": 15,
      "outputs": [
        {
          "output_type": "stream",
          "name": "stdout",
          "text": [
            "True False\n",
            "True\n",
            "False\n",
            "a.shape = torch.Size([3, 3]), a.size() = torch.Size([3, 3]), a.stride()=(3, 1), a.storage_offset() =0\n",
            "a_sub.shape=torch.Size([2]), a_sub.size()=torch.Size([2]), a_sub.stride()=(3,), a_sub.storage_offset()=3\n"
          ]
        }
      ]
    },
    {
      "cell_type": "markdown",
      "source": [
        "#Grad"
      ],
      "metadata": {
        "id": "0BKv3onLNmo1"
      }
    },
    {
      "cell_type": "code",
      "source": [
        "pip install --quiet matplotlib"
      ],
      "metadata": {
        "id": "8Zgds23VP9IX"
      },
      "execution_count": 20,
      "outputs": []
    },
    {
      "cell_type": "code",
      "source": [
        "pip install --quiet torchviz"
      ],
      "metadata": {
        "colab": {
          "base_uri": "https://localhost:8080/"
        },
        "id": "1ghLbDEmN7z4",
        "outputId": "48685c14-5b98-4c8a-d962-e7d8fecbf105"
      },
      "execution_count": 17,
      "outputs": [
        {
          "output_type": "stream",
          "name": "stdout",
          "text": [
            "  Preparing metadata (setup.py) ... \u001b[?25l\u001b[?25hdone\n",
            "\u001b[2K     \u001b[90m━━━━━━━━━━━━━━━━━━━━━━━━━━━━━━━━━━━━━━━━\u001b[0m \u001b[32m23.7/23.7 MB\u001b[0m \u001b[31m57.5 MB/s\u001b[0m eta \u001b[36m0:00:00\u001b[0m\n",
            "\u001b[2K     \u001b[90m━━━━━━━━━━━━━━━━━━━━━━━━━━━━━━━━━━━━━━━━\u001b[0m \u001b[32m823.6/823.6 kB\u001b[0m \u001b[31m52.5 MB/s\u001b[0m eta \u001b[36m0:00:00\u001b[0m\n",
            "\u001b[2K     \u001b[90m━━━━━━━━━━━━━━━━━━━━━━━━━━━━━━━━━━━━━━━━\u001b[0m \u001b[32m14.1/14.1 MB\u001b[0m \u001b[31m86.1 MB/s\u001b[0m eta \u001b[36m0:00:00\u001b[0m\n",
            "\u001b[2K     \u001b[90m━━━━━━━━━━━━━━━━━━━━━━━━━━━━━━━━━━━━━━━━\u001b[0m \u001b[32m731.7/731.7 MB\u001b[0m \u001b[31m2.4 MB/s\u001b[0m eta \u001b[36m0:00:00\u001b[0m\n",
            "\u001b[2K     \u001b[90m━━━━━━━━━━━━━━━━━━━━━━━━━━━━━━━━━━━━━━━━\u001b[0m \u001b[32m410.6/410.6 MB\u001b[0m \u001b[31m1.8 MB/s\u001b[0m eta \u001b[36m0:00:00\u001b[0m\n",
            "\u001b[2K     \u001b[90m━━━━━━━━━━━━━━━━━━━━━━━━━━━━━━━━━━━━━━━━\u001b[0m \u001b[32m121.6/121.6 MB\u001b[0m \u001b[31m8.5 MB/s\u001b[0m eta \u001b[36m0:00:00\u001b[0m\n",
            "\u001b[2K     \u001b[90m━━━━━━━━━━━━━━━━━━━━━━━━━━━━━━━━━━━━━━━━\u001b[0m \u001b[32m56.5/56.5 MB\u001b[0m \u001b[31m11.9 MB/s\u001b[0m eta \u001b[36m0:00:00\u001b[0m\n",
            "\u001b[2K     \u001b[90m━━━━━━━━━━━━━━━━━━━━━━━━━━━━━━━━━━━━━━━━\u001b[0m \u001b[32m124.2/124.2 MB\u001b[0m \u001b[31m8.5 MB/s\u001b[0m eta \u001b[36m0:00:00\u001b[0m\n",
            "\u001b[2K     \u001b[90m━━━━━━━━━━━━━━━━━━━━━━━━━━━━━━━━━━━━━━━━\u001b[0m \u001b[32m196.0/196.0 MB\u001b[0m \u001b[31m6.9 MB/s\u001b[0m eta \u001b[36m0:00:00\u001b[0m\n",
            "\u001b[2K     \u001b[90m━━━━━━━━━━━━━━━━━━━━━━━━━━━━━━━━━━━━━━━━\u001b[0m \u001b[32m166.0/166.0 MB\u001b[0m \u001b[31m7.3 MB/s\u001b[0m eta \u001b[36m0:00:00\u001b[0m\n",
            "\u001b[2K     \u001b[90m━━━━━━━━━━━━━━━━━━━━━━━━━━━━━━━━━━━━━━━━\u001b[0m \u001b[32m99.1/99.1 kB\u001b[0m \u001b[31m14.2 MB/s\u001b[0m eta \u001b[36m0:00:00\u001b[0m\n",
            "\u001b[2K     \u001b[90m━━━━━━━━━━━━━━━━━━━━━━━━━━━━━━━━━━━━━━━━\u001b[0m \u001b[32m21.1/21.1 MB\u001b[0m \u001b[31m75.1 MB/s\u001b[0m eta \u001b[36m0:00:00\u001b[0m\n",
            "\u001b[?25h  Building wheel for torchviz (setup.py) ... \u001b[?25l\u001b[?25hdone\n"
          ]
        }
      ]
    },
    {
      "cell_type": "code",
      "source": [
        "x = torch.tensor([2.0], requires_grad = True)\n",
        "\n",
        "import numpy as np\n",
        "import torch\n",
        "import torchviz\n",
        "from IPython.display import display\n",
        "\n",
        "x_np = np.arange(-1,1,0.5)\n",
        "\n",
        "x = torch.tensor(x_np, dtype = torch.float32)\n",
        "x.requires_grad = True\n",
        "\n",
        "display(x)"
      ],
      "metadata": {
        "colab": {
          "base_uri": "https://localhost:8080/",
          "height": 35
        },
        "id": "zEiMLwuOKTxg",
        "outputId": "826ebf77-f4a5-4efe-c10c-defcc187628b"
      },
      "execution_count": 19,
      "outputs": [
        {
          "output_type": "display_data",
          "data": {
            "text/plain": [
              "tensor([-1.0000, -0.5000,  0.0000,  0.5000], requires_grad=True)"
            ]
          },
          "metadata": {}
        }
      ]
    },
    {
      "cell_type": "code",
      "source": [
        "y = 2 * x + 11\n",
        "display(y)"
      ],
      "metadata": {
        "colab": {
          "base_uri": "https://localhost:8080/",
          "height": 35
        },
        "id": "V0Zjqd3HPmm3",
        "outputId": "384717d5-d6a7-4e97-e24f-d81451f19f07"
      },
      "execution_count": 23,
      "outputs": [
        {
          "output_type": "display_data",
          "data": {
            "text/plain": [
              "tensor([ 9., 10., 11., 12.], grad_fn=<AddBackward0>)"
            ]
          },
          "metadata": {}
        }
      ]
    },
    {
      "cell_type": "code",
      "source": [
        "import matplotlib.pyplot as plt\n",
        "\n",
        "plt.plot(x.detach().numpy(), y.detach().numpy()) #.detach() 텐서의 기능만 반환해서 알려줌(객체에 뭔가 처리를 해줘도 추적에 관련된것을 그리지 않음.)"
      ],
      "metadata": {
        "colab": {
          "base_uri": "https://localhost:8080/",
          "height": 448
        },
        "id": "-qFIB46XQIhR",
        "outputId": "c3869d8a-034e-4ee8-9b4a-5728f71611a7"
      },
      "execution_count": 24,
      "outputs": [
        {
          "output_type": "execute_result",
          "data": {
            "text/plain": [
              "[<matplotlib.lines.Line2D at 0x7d9edc172ec0>]"
            ]
          },
          "metadata": {},
          "execution_count": 24
        },
        {
          "output_type": "display_data",
          "data": {
            "text/plain": [
              "<Figure size 640x480 with 1 Axes>"
            ],
            "image/png": "[encoded data removed]"
          },
          "metadata": {}
        }
      ]
    },
    {
      "cell_type": "code",
      "source": [
        "y.backward(torch.ones_like(y))\n",
        "display(x.grad)"
      ],
      "metadata": {
        "colab": {
          "base_uri": "https://localhost:8080/",
          "height": 35
        },
        "id": "6PGj9_KUQYNj",
        "outputId": "777bf8be-6f66-45d6-c820-6cad8930260c"
      },
      "execution_count": 25,
      "outputs": [
        {
          "output_type": "display_data",
          "data": {
            "text/plain": [
              "tensor([2., 2., 2., 2.])"
            ]
          },
          "metadata": {}
        }
      ]
    },
    {
      "cell_type": "code",
      "source": [
        "cg = torchviz.make_dot(y, params = {'input': x , \"output\" : y})\n",
        "\n",
        "cg.render(\"graph\", view = True)\n",
        "display(cg)"
      ],
      "metadata": {
        "colab": {
          "base_uri": "https://localhost:8080/",
          "height": 379
        },
        "id": "OfqMQgokQ7zK",
        "outputId": "75cdf22b-6449-47e1-b9d7-9af587c66e0e"
      },
      "execution_count": 26,
      "outputs": [
        {
          "output_type": "display_data",
          "data": {
            "image/svg+xml": "<?xml version=\"1.0\" encoding=\"UTF-8\" standalone=\"no\"?>\n<!DOCTYPE svg PUBLIC \"-//W3C//DTD SVG 1.1//EN\"\n \"http://www.w3.org/Graphics/SVG/1.1/DTD/svg11.dtd\">\n<!-- Generated by graphviz version 2.43.0 (0)\n -->\n<!-- Title: %3 Pages: 1 -->\n<svg width=\"109pt\" height=\"269pt\"\n viewBox=\"0.00 0.00 109.00 269.00\" xmlns=\"http://www.w3.org/2000/svg\" xmlns:xlink=\"http://www.w3.org/1999/xlink\">\n<g id=\"graph0\" class=\"graph\" transform=\"scale(1 1) rotate(0) translate(4 265)\">\n<title>%3</title>\n<polygon fill=\"white\" stroke=\"transparent\" points=\"-4,4 -4,-265 105,-265 105,4 -4,4\"/>\n<!-- 138121251751072 -->\n<g id=\"node1\" class=\"node\">\n<title>138121251751072</title>\n<polygon fill=\"#caff70\" stroke=\"black\" points=\"77.5,-30 23.5,-30 23.5,0 77.5,0 77.5,-30\"/>\n<text text-anchor=\"middle\" x=\"50.5\" y=\"-18\" font-family=\"monospace\" font-size=\"10.00\">output</text>\n<text text-anchor=\"middle\" x=\"50.5\" y=\"-7\" font-family=\"monospace\" font-size=\"10.00\"> (4)</text>\n</g>\n<!-- 138120997616704 -->\n<g id=\"node2\" class=\"node\">\n<title>138120997616704</title>\n<polygon fill=\"lightgrey\" stroke=\"black\" points=\"95,-85 6,-85 6,-66 95,-66 95,-85\"/>\n<text text-anchor=\"middle\" x=\"50.5\" y=\"-73\" font-family=\"monospace\" font-size=\"10.00\">AddBackward0</text>\n</g>\n<!-- 138120997616704&#45;&gt;138121251751072 -->\n<g id=\"edge4\" class=\"edge\">\n<title>138120997616704&#45;&gt;138121251751072</title>\n<path fill=\"none\" stroke=\"black\" d=\"M50.5,-65.87C50.5,-59.11 50.5,-49.35 50.5,-40.26\"/>\n<polygon fill=\"black\" stroke=\"black\" points=\"54,-40.11 50.5,-30.11 47,-40.11 54,-40.11\"/>\n</g>\n<!-- 138120997610800 -->\n<g id=\"node3\" class=\"node\">\n<title>138120997610800</title>\n<polygon fill=\"lightgrey\" stroke=\"black\" points=\"95,-140 6,-140 6,-121 95,-121 95,-140\"/>\n<text text-anchor=\"middle\" x=\"50.5\" y=\"-128\" font-family=\"monospace\" font-size=\"10.00\">MulBackward0</text>\n</g>\n<!-- 138120997610800&#45;&gt;138120997616704 -->\n<g id=\"edge1\" class=\"edge\">\n<title>138120997610800&#45;&gt;138120997616704</title>\n<path fill=\"none\" stroke=\"black\" d=\"M50.5,-120.75C50.5,-113.8 50.5,-103.85 50.5,-95.13\"/>\n<polygon fill=\"black\" stroke=\"black\" points=\"54,-95.09 50.5,-85.09 47,-95.09 54,-95.09\"/>\n</g>\n<!-- 138120997608304 -->\n<g id=\"node4\" class=\"node\">\n<title>138120997608304</title>\n<polygon fill=\"lightgrey\" stroke=\"black\" points=\"101,-195 0,-195 0,-176 101,-176 101,-195\"/>\n<text text-anchor=\"middle\" x=\"50.5\" y=\"-183\" font-family=\"monospace\" font-size=\"10.00\">AccumulateGrad</text>\n</g>\n<!-- 138120997608304&#45;&gt;138120997610800 -->\n<g id=\"edge2\" class=\"edge\">\n<title>138120997608304&#45;&gt;138120997610800</title>\n<path fill=\"none\" stroke=\"black\" d=\"M50.5,-175.75C50.5,-168.8 50.5,-158.85 50.5,-150.13\"/>\n<polygon fill=\"black\" stroke=\"black\" points=\"54,-150.09 50.5,-140.09 47,-150.09 54,-150.09\"/>\n</g>\n<!-- 138121251749952 -->\n<g id=\"node5\" class=\"node\">\n<title>138121251749952</title>\n<polygon fill=\"lightblue\" stroke=\"black\" points=\"77.5,-261 23.5,-261 23.5,-231 77.5,-231 77.5,-261\"/>\n<text text-anchor=\"middle\" x=\"50.5\" y=\"-249\" font-family=\"monospace\" font-size=\"10.00\">input</text>\n<text text-anchor=\"middle\" x=\"50.5\" y=\"-238\" font-family=\"monospace\" font-size=\"10.00\"> (4)</text>\n</g>\n<!-- 138121251749952&#45;&gt;138120997608304 -->\n<g id=\"edge3\" class=\"edge\">\n<title>138121251749952&#45;&gt;138120997608304</title>\n<path fill=\"none\" stroke=\"black\" d=\"M50.5,-230.84C50.5,-223.21 50.5,-213.7 50.5,-205.45\"/>\n<polygon fill=\"black\" stroke=\"black\" points=\"54,-205.27 50.5,-195.27 47,-205.27 54,-205.27\"/>\n</g>\n</g>\n</svg>\n",
            "text/plain": [
              "<graphviz.graphs.Digraph at 0x7d9eccff9cf0>"
            ]
          },
          "metadata": {}
        }
      ]
    },
    {
      "cell_type": "code",
      "source": [
        "y2 = 5 * x\n",
        "y2.backward(torch.ones_like(y2))\n",
        "\n",
        "display(x.grad) #x.grad를 초기화 시켜주지 않았기 때문에 앞서있던 그래디언트와 더해져서 7로 나온것"
      ],
      "metadata": {
        "colab": {
          "base_uri": "https://localhost:8080/",
          "height": 35
        },
        "id": "L79pFBUBRMd3",
        "outputId": "10fa6e5e-9053-4be4-d412-3444446ed582"
      },
      "execution_count": 27,
      "outputs": [
        {
          "output_type": "display_data",
          "data": {
            "text/plain": [
              "tensor([7., 7., 7., 7.])"
            ]
          },
          "metadata": {}
        }
      ]
    },
    {
      "cell_type": "code",
      "source": [
        "cg = torchviz.make_dot(y2)\n",
        "display(cg)"
      ],
      "metadata": {
        "colab": {
          "base_uri": "https://localhost:8080/",
          "height": 308
        },
        "id": "qOHe5_n1RniH",
        "outputId": "5b054206-0737-4ce5-b070-e27116d21677"
      },
      "execution_count": 28,
      "outputs": [
        {
          "output_type": "display_data",
          "data": {
            "image/svg+xml": "<?xml version=\"1.0\" encoding=\"UTF-8\" standalone=\"no\"?>\n<!DOCTYPE svg PUBLIC \"-//W3C//DTD SVG 1.1//EN\"\n \"http://www.w3.org/Graphics/SVG/1.1/DTD/svg11.dtd\">\n<!-- Generated by graphviz version 2.43.0 (0)\n -->\n<!-- Title: %3 Pages: 1 -->\n<svg width=\"109pt\" height=\"216pt\"\n viewBox=\"0.00 0.00 109.00 216.00\" xmlns=\"http://www.w3.org/2000/svg\" xmlns:xlink=\"http://www.w3.org/1999/xlink\">\n<g id=\"graph0\" class=\"graph\" transform=\"scale(1 1) rotate(0) translate(4 212)\">\n<title>%3</title>\n<polygon fill=\"white\" stroke=\"transparent\" points=\"-4,4 -4,-212 105,-212 105,4 -4,4\"/>\n<!-- 138121266068224 -->\n<g id=\"node1\" class=\"node\">\n<title>138121266068224</title>\n<polygon fill=\"#caff70\" stroke=\"black\" points=\"77.5,-31 23.5,-31 23.5,0 77.5,0 77.5,-31\"/>\n<text text-anchor=\"middle\" x=\"50.5\" y=\"-7\" font-family=\"monospace\" font-size=\"10.00\"> (4)</text>\n</g>\n<!-- 138120996728512 -->\n<g id=\"node2\" class=\"node\">\n<title>138120996728512</title>\n<polygon fill=\"lightgrey\" stroke=\"black\" points=\"95,-86 6,-86 6,-67 95,-67 95,-86\"/>\n<text text-anchor=\"middle\" x=\"50.5\" y=\"-74\" font-family=\"monospace\" font-size=\"10.00\">MulBackward0</text>\n</g>\n<!-- 138120996728512&#45;&gt;138121266068224 -->\n<g id=\"edge3\" class=\"edge\">\n<title>138120996728512&#45;&gt;138121266068224</title>\n<path fill=\"none\" stroke=\"black\" d=\"M50.5,-66.79C50.5,-60.07 50.5,-50.4 50.5,-41.34\"/>\n<polygon fill=\"black\" stroke=\"black\" points=\"54,-41.19 50.5,-31.19 47,-41.19 54,-41.19\"/>\n</g>\n<!-- 138120996727408 -->\n<g id=\"node3\" class=\"node\">\n<title>138120996727408</title>\n<polygon fill=\"lightgrey\" stroke=\"black\" points=\"101,-141 0,-141 0,-122 101,-122 101,-141\"/>\n<text text-anchor=\"middle\" x=\"50.5\" y=\"-129\" font-family=\"monospace\" font-size=\"10.00\">AccumulateGrad</text>\n</g>\n<!-- 138120996727408&#45;&gt;138120996728512 -->\n<g id=\"edge1\" class=\"edge\">\n<title>138120996727408&#45;&gt;138120996728512</title>\n<path fill=\"none\" stroke=\"black\" d=\"M50.5,-121.75C50.5,-114.8 50.5,-104.85 50.5,-96.13\"/>\n<polygon fill=\"black\" stroke=\"black\" points=\"54,-96.09 50.5,-86.09 47,-96.09 54,-96.09\"/>\n</g>\n<!-- 138121251749952 -->\n<g id=\"node4\" class=\"node\">\n<title>138121251749952</title>\n<polygon fill=\"lightblue\" stroke=\"black\" points=\"77.5,-208 23.5,-208 23.5,-177 77.5,-177 77.5,-208\"/>\n<text text-anchor=\"middle\" x=\"50.5\" y=\"-184\" font-family=\"monospace\" font-size=\"10.00\"> (4)</text>\n</g>\n<!-- 138121251749952&#45;&gt;138120996727408 -->\n<g id=\"edge2\" class=\"edge\">\n<title>138121251749952&#45;&gt;138120996727408</title>\n<path fill=\"none\" stroke=\"black\" d=\"M50.5,-176.92C50.5,-169.22 50.5,-159.69 50.5,-151.43\"/>\n<polygon fill=\"black\" stroke=\"black\" points=\"54,-151.25 50.5,-141.25 47,-151.25 54,-151.25\"/>\n</g>\n</g>\n</svg>\n",
            "text/plain": [
              "<graphviz.graphs.Digraph at 0x7d9eccf22e30>"
            ]
          },
          "metadata": {}
        }
      ]
    },
    {
      "cell_type": "code",
      "source": [
        "def print_ten(x):\n",
        "  print(f\"{x.requires_grad =} \\n {x.is_leaf=}\\n{x.grad_fn=}\\n{x.grad=}\")\n",
        "\n",
        "print_ten(x)"
      ],
      "metadata": {
        "colab": {
          "base_uri": "https://localhost:8080/"
        },
        "id": "R6Hu16uIRy9Y",
        "outputId": "d6c489a7-37d7-4555-f5ad-b7a31f0a12ea"
      },
      "execution_count": 30,
      "outputs": [
        {
          "output_type": "stream",
          "name": "stdout",
          "text": [
            "x.requires_grad =True \n",
            " x.is_leaf=True\n",
            "x.grad_fn=None\n",
            "x.grad=tensor([7., 7., 7., 7.])\n"
          ]
        }
      ]
    },
    {
      "cell_type": "code",
      "source": [
        "a = 2 *x + 10\n",
        "\n",
        "a.retain_grad()\n",
        "\n",
        "b = 3 * a\n",
        "b.retain_grad()\n",
        "\n",
        "c = 2*b\n",
        "c.retain_grad()\n",
        "\n",
        "l = torch.sum(c)\n",
        "display(x)\n",
        "display(l)"
      ],
      "metadata": {
        "colab": {
          "base_uri": "https://localhost:8080/",
          "height": 54
        },
        "id": "gXwoF6aGTL8R",
        "outputId": "d2e5b28e-3ec9-473f-be4a-a5a37c31f5fa"
      },
      "execution_count": 31,
      "outputs": [
        {
          "output_type": "display_data",
          "data": {
            "text/plain": [
              "tensor([-1.0000, -0.5000,  0.0000,  0.5000], requires_grad=True)"
            ]
          },
          "metadata": {}
        },
        {
          "output_type": "display_data",
          "data": {
            "text/plain": [
              "tensor(228., grad_fn=<SumBackward0>)"
            ]
          },
          "metadata": {}
        }
      ]
    },
    {
      "cell_type": "code",
      "source": [
        "l.backward()\n",
        "\n",
        "for c in [x,a,b,c]:\n",
        "  print_ten(c)\n",
        "  print('--------')\n",
        "  c.grad.zero_()"
      ],
      "metadata": {
        "colab": {
          "base_uri": "https://localhost:8080/"
        },
        "id": "WMmAbTQjU1Ht",
        "outputId": "66e3bcc5-79d2-491a-c89d-1db92b48cd45"
      },
      "execution_count": 32,
      "outputs": [
        {
          "output_type": "stream",
          "name": "stdout",
          "text": [
            "x.requires_grad =True \n",
            " x.is_leaf=True\n",
            "x.grad_fn=None\n",
            "x.grad=tensor([19., 19., 19., 19.])\n",
            "--------\n",
            "x.requires_grad =True \n",
            " x.is_leaf=False\n",
            "x.grad_fn=<AddBackward0 object at 0x7d9edc2c5fc0>\n",
            "x.grad=tensor([6., 6., 6., 6.])\n",
            "--------\n",
            "x.requires_grad =True \n",
            " x.is_leaf=False\n",
            "x.grad_fn=<MulBackward0 object at 0x7d9edc2c5fc0>\n",
            "x.grad=tensor([2., 2., 2., 2.])\n",
            "--------\n",
            "x.requires_grad =True \n",
            " x.is_leaf=False\n",
            "x.grad_fn=<MulBackward0 object at 0x7d9edc2c5fc0>\n",
            "x.grad=tensor([1., 1., 1., 1.])\n",
            "--------\n"
          ]
        }
      ]
    },
    {
      "cell_type": "code",
      "source": [],
      "metadata": {
        "id": "PsAcTO9QU9ot"
      },
      "execution_count": null,
      "outputs": []
    }
  ]
}