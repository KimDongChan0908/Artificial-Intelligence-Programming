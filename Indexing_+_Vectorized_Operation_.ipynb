{
  "nbformat": 4,
  "nbformat_minor": 0,
  "metadata": {
    "colab": {
      "provenance": [],
      "authorship_tag": "ABX9TyNhRs5NtGMU8s047hjSf6hP",
      "include_colab_link": true
    },
    "kernelspec": {
      "name": "python3",
      "display_name": "Python 3"
    },
    "language_info": {
      "name": "python"
    }
  },
  "cells": [
    {
      "cell_type": "markdown",
      "metadata": {
        "id": "view-in-github",
        "colab_type": "text"
      },
      "source": [
        "<a href=\"https://colab.research.google.com/github/KimDongChan0908/Artificial-Intelligence-Programming/blob/Week-3-Class/Indexing_%2B_Vectorized_Operation_.ipynb\" target=\"_parent\"><img src=\"https://colab.research.google.com/assets/colab-badge.svg\" alt=\"Open In Colab\"/></a>"
      ]
    },
    {
      "cell_type": "markdown",
      "source": [
        "numpy나 pytorch, tensorflow의 텐서들도 파이썬의 list 또는 tuple에서의 indexing과 slicing이 거의 그대로 사용됨.\n",
        "----\n",
        " (multi-dimension에서 대가로 안에서 comma로 구분하여 각 축에 대한 indexing과 slicing을 할 수 있음)"
      ],
      "metadata": {
        "id": "8-6wHVy9KZzG"
      }
    },
    {
      "cell_type": "code",
      "execution_count": 5,
      "metadata": {
        "colab": {
          "base_uri": "https://localhost:8080/"
        },
        "id": "SXIAz_ntJmna",
        "outputId": "e72f385d-8426-4413-eae7-78a770b43bb1"
      },
      "outputs": [
        {
          "output_type": "stream",
          "name": "stdout",
          "text": [
            "[[ 0  1  2  3]\n",
            " [ 4  5  6  7]\n",
            " [ 8  9 10 11]]\n",
            "===============\n",
            "a[0] is\"[0 1 2 3]\"\n",
            "a[0,2] is \"2\"\n",
            "a[0][2] is \"2\"\n",
            "--------------------\n",
            "a[1,2:] is \"[6 7]\"\n",
            "a[1,::2] is \"[4 6]\"\n",
            "a[1,::-1] is\"[7 6 5 4]\"\n",
            "a[1,3:0:-1] is \"[6 5]\"\n",
            "a[1,0::-1] is [7 6 5]\"\n"
          ]
        }
      ],
      "source": [
        "import numpy as np\n",
        "a = np.arange(0,12).reshape(3,4)\n",
        "\n",
        "print(a)\n",
        "print('===============')\n",
        "print(f'a[0] is\"{a[0]}\"')\n",
        "print(f'a[0,2] is \"{a[0,2]}\"')\n",
        "print(f'a[0][2] is \"{a[0][2]}\"')\n",
        "print('--------------------')\n",
        "print(f'a[1,2:] is \"{a[1,2:]}\"')\n",
        "print(f'a[1,::2] is \"{a[1,::2]}\"')\n",
        "print(f'a[1,::-1] is\"{a[1,::-1]}\"')\n",
        "print(f'a[1,3:0:-1] is \"{a[1,2:0:-1]}\"') # negative step"
      ]
    },
    {
      "cell_type": "code",
      "source": [
        "#Pytorch 의 tensor (여기서는 negative step(-1)이 동작하지 않음)\n",
        "\n",
        "import torch\n",
        "\n",
        "a = np.arange(0,12).reshape(3,4)\n",
        "a_torch = torch.tensor(a)\n",
        "\n",
        "print(a_torch)\n",
        "print(f'a_torch[0] is \"{a_torch[0]}\"')\n",
        "print(f'a_torch[0,2] is \"{a_torch[0,2]}\"')\n",
        "print(f'a_torch[0][2] is \"{a_torch[0][2]}\"')\n",
        "\n",
        "print(f'a_torch[1,3:] is \"{a_torch[1,3:]}\"')\n",
        "print(f'a_torch[1, ::2] is \"{a_torch[1, ::2]}\"')"
      ],
      "metadata": {
        "colab": {
          "base_uri": "https://localhost:8080/"
        },
        "id": "G9d9L_wmMTc4",
        "outputId": "894cea5b-4beb-4a9a-f5c3-bca1832f8a44"
      },
      "execution_count": 7,
      "outputs": [
        {
          "output_type": "stream",
          "name": "stdout",
          "text": [
            "tensor([[ 0,  1,  2,  3],\n",
            "        [ 4,  5,  6,  7],\n",
            "        [ 8,  9, 10, 11]])\n",
            "a_torch[0] is \"tensor([0, 1, 2, 3])\"\n",
            "a_torch[0,2] is \"2\"\n",
            "a_torch[0][2] is \"2\"\n",
            "a_torch[1,3:] is \"tensor([7])\"\n",
            "a_torch[1, ::2] is \"tensor([4, 6])\"\n"
          ]
        }
      ]
    },
    {
      "cell_type": "code",
      "source": [
        "import tensorflow as tf\n",
        "\n",
        "a_tf = tf.constant(a)\n",
        "\n",
        "print(a_tf)\n",
        "print(f'a_tf[0] is \"{a_tf[0]}\"')\n",
        "print(f'a_tf[0,2] is \"{a_tf[0,2]}\"')\n",
        "print(f'a_tf[0][2] is \"{a_tf[0][2]}')\n",
        "\n",
        "print(f'a_tf[1,2:] is \"{a_tf[1,2:]}\"')\n",
        "print(f'a_tf[1,::2] is \"{a_tf[1, ::2]}\"')\n",
        "print(f'a_tf[1, ::-2] is \"{a_tf[1, ::-2]}\"')"
      ],
      "metadata": {
        "colab": {
          "base_uri": "https://localhost:8080/"
        },
        "id": "qnIXXD_FOn5L",
        "outputId": "6d33d182-bde9-47c6-dec2-4ffaa22a929d"
      },
      "execution_count": 9,
      "outputs": [
        {
          "output_type": "stream",
          "name": "stdout",
          "text": [
            "tf.Tensor(\n",
            "[[ 0  1  2  3]\n",
            " [ 4  5  6  7]\n",
            " [ 8  9 10 11]], shape=(3, 4), dtype=int64)\n",
            "a_tf[0] is \"[0 1 2 3]\"\n",
            "a_tf[0,2] is \"2\"\n",
            "a_tf[0][2] is \"2\n",
            "a_tf[1,2:] is \"[6 7]\"\n",
            "a_tf[1,::2] is \"[4 6]\"\n",
            "a_tf[1, ::-2] is \"[7 5]\"\n"
          ]
        }
      ]
    },
    {
      "cell_type": "code",
      "source": [
        "import numpy as np\n",
        "import tensorflow as tf\n",
        "import torch\n",
        "\n",
        "x = np.array([100.,500.,300.,400])\n",
        "x_torch = torch.tensor([100.,500.,300.,400,])\n",
        "x_tf = tf.constant([100.,500.,300.,400.])\n",
        "\n",
        "f_indices = [2,3,1] #Fancy Indexing\n",
        "\n",
        "print('original')\n",
        "print(x)\n",
        "print('-----------')\n",
        "print('numpy')\n",
        "print(x[f_indices])\n",
        "print('-----------')\n",
        "print(x_torch[f_indices])\n",
        "print('---------')\n",
        "print('tensorflow')\n",
        "print(tf.gather(x_tf, f_indices))"
      ],
      "metadata": {
        "colab": {
          "base_uri": "https://localhost:8080/"
        },
        "id": "yTjTxL6HSHoM",
        "outputId": "0b32609d-48e3-4e91-e0dd-173deeb96583"
      },
      "execution_count": 5,
      "outputs": [
        {
          "output_type": "stream",
          "name": "stdout",
          "text": [
            "original\n",
            "[100. 500. 300. 400.]\n",
            "-----------\n",
            "numpy\n",
            "[300. 400. 500.]\n",
            "-----------\n",
            "tensor([300., 400., 500.])\n",
            "---------\n",
            "tensorflow\n",
            "tf.Tensor([300. 400. 500.], shape=(3,), dtype=float32)\n"
          ]
        }
      ]
    },
    {
      "cell_type": "code",
      "source": [
        "x = np.arange(5*5).reshape(5,5) * 10\n",
        "x_torch = torch.arange(5*5).view(size=(5,5)) * 10\n",
        "x_tf =tf.constant(x)\n",
        "\n",
        "indices_0 = [0, 1, 2, 3]\n",
        "indices_1 = [0, 1, 2, 3]\n",
        "\n",
        "print('original: ')\n",
        "print(x)\n",
        "print('------------')\n",
        "print('numpy: ')\n",
        "b = x[indices_0, indices_1]\n",
        "print('b.shape =',b.shape)\n",
        "print(b)\n",
        "print('---------')\n",
        "print('torch:')\n",
        "c = x_torch[indices_0, indices_1]\n",
        "print('c.shape =',c.shape)\n",
        "print(c)\n",
        "print('-----------')\n",
        "print('tensorflow')\n",
        "d = tf.gather_nd(x_tf, [i for i in zip (indices_0, indices_1)])\n",
        "print('d.shape =', d.shape)\n",
        "print(d)"
      ],
      "metadata": {
        "colab": {
          "base_uri": "https://localhost:8080/"
        },
        "id": "K0jJJEXhwFN5",
        "outputId": "a9443a49-fc85-4001-a2b3-81fadffb39a2"
      },
      "execution_count": 7,
      "outputs": [
        {
          "output_type": "stream",
          "name": "stdout",
          "text": [
            "original: \n",
            "[[  0  10  20  30  40]\n",
            " [ 50  60  70  80  90]\n",
            " [100 110 120 130 140]\n",
            " [150 160 170 180 190]\n",
            " [200 210 220 230 240]]\n",
            "------------\n",
            "numpy: \n",
            "b.shape = (4,)\n",
            "[  0  60 120 180]\n",
            "---------\n",
            "torch:\n",
            "c.shape = torch.Size([4])\n",
            "tensor([  0,  60, 120, 180])\n",
            "-----------\n",
            "tensorflow\n",
            "d.shape = (4,)\n",
            "tf.Tensor([  0  60 120 180], shape=(4,), dtype=int64)\n"
          ]
        }
      ]
    },
    {
      "cell_type": "code",
      "source": [
        "x = np.arange(3*3*3).reshape(3,3,3) * 10\n",
        "\n",
        "print('original: ')\n",
        "print(x)\n",
        "print('-----------')\n",
        "print('boolean mask:')\n",
        "b = x <= 270/2\n",
        "\n",
        "print(b.shape)\n",
        "print(b)\n",
        "print('----------')\n",
        "print('x <= 135')\n",
        "print(x[b])\n",
        "print('----------')\n",
        "print('----------')\n",
        "print('x <= 135 | x >= 200')\n",
        "b1 = b | (x >= 200)\n",
        "print('----------')\n",
        "print(b1)\n",
        "print('----------')\n",
        "print('boolean mask')\n",
        "print(b1)\n",
        "print('----------')\n",
        "print(x[b1])\n",
        "print('----------')\n",
        "print(x[(x<= 300/2) | (x >= 200)])"
      ],
      "metadata": {
        "colab": {
          "base_uri": "https://localhost:8080/"
        },
        "id": "nK_DvQZC0Zij",
        "outputId": "b35be597-d755-45fc-99f3-d3ee7788d40b"
      },
      "execution_count": 11,
      "outputs": [
        {
          "output_type": "stream",
          "name": "stdout",
          "text": [
            "original: \n",
            "[[[  0  10  20]\n",
            "  [ 30  40  50]\n",
            "  [ 60  70  80]]\n",
            "\n",
            " [[ 90 100 110]\n",
            "  [120 130 140]\n",
            "  [150 160 170]]\n",
            "\n",
            " [[180 190 200]\n",
            "  [210 220 230]\n",
            "  [240 250 260]]]\n",
            "-----------\n",
            "boolean mask:\n",
            "(3, 3, 3)\n",
            "[[[ True  True  True]\n",
            "  [ True  True  True]\n",
            "  [ True  True  True]]\n",
            "\n",
            " [[ True  True  True]\n",
            "  [ True  True False]\n",
            "  [False False False]]\n",
            "\n",
            " [[False False False]\n",
            "  [False False False]\n",
            "  [False False False]]]\n",
            "----------\n",
            "x <= 135\n",
            "[  0  10  20  30  40  50  60  70  80  90 100 110 120 130]\n",
            "----------\n",
            "----------\n",
            "x <= 135 | x >= 200\n",
            "----------\n",
            "[[[ True  True  True]\n",
            "  [ True  True  True]\n",
            "  [ True  True  True]]\n",
            "\n",
            " [[ True  True  True]\n",
            "  [ True  True False]\n",
            "  [False False False]]\n",
            "\n",
            " [[False False  True]\n",
            "  [ True  True  True]\n",
            "  [ True  True  True]]]\n",
            "----------\n",
            "boolean mask\n",
            "[[[ True  True  True]\n",
            "  [ True  True  True]\n",
            "  [ True  True  True]]\n",
            "\n",
            " [[ True  True  True]\n",
            "  [ True  True False]\n",
            "  [False False False]]\n",
            "\n",
            " [[False False  True]\n",
            "  [ True  True  True]\n",
            "  [ True  True  True]]]\n",
            "----------\n",
            "[  0  10  20  30  40  50  60  70  80  90 100 110 120 130 200 210 220 230\n",
            " 240 250 260]\n",
            "----------\n",
            "[  0  10  20  30  40  50  60  70  80  90 100 110 120 130 140 150 200 210\n",
            " 220 230 240 250 260]\n"
          ]
        }
      ]
    },
    {
      "cell_type": "code",
      "source": [
        "x_torch = torch.arange(4*4*4).view(size = (4,4,4)) * 10\n",
        "print('Original')\n",
        "print(x_torch)\n",
        "print('-----------------')\n",
        "\n",
        "print(x_torch[(x_torch <= 300/2 ) | (x_torch >= 220 )])\n",
        "\n",
        "print('---------------')\n",
        "\n",
        "x_tf = tf.constant(x) # x 는 위에서 정의된  np.arange(3*3*3).reshape(3,3,3) * 10\n",
        "print(x_tf[(x_tf <= tf.cast(270/2, tf.int64)) | (x_tf >= 250 )])"
      ],
      "metadata": {
        "colab": {
          "base_uri": "https://localhost:8080/"
        },
        "id": "EwqxWkXnINl_",
        "outputId": "111b4015-5a08-4abf-c822-fbcd5d747f0a"
      },
      "execution_count": 16,
      "outputs": [
        {
          "output_type": "stream",
          "name": "stdout",
          "text": [
            "Original\n",
            "tensor([[[  0,  10,  20,  30],\n",
            "         [ 40,  50,  60,  70],\n",
            "         [ 80,  90, 100, 110],\n",
            "         [120, 130, 140, 150]],\n",
            "\n",
            "        [[160, 170, 180, 190],\n",
            "         [200, 210, 220, 230],\n",
            "         [240, 250, 260, 270],\n",
            "         [280, 290, 300, 310]],\n",
            "\n",
            "        [[320, 330, 340, 350],\n",
            "         [360, 370, 380, 390],\n",
            "         [400, 410, 420, 430],\n",
            "         [440, 450, 460, 470]],\n",
            "\n",
            "        [[480, 490, 500, 510],\n",
            "         [520, 530, 540, 550],\n",
            "         [560, 570, 580, 590],\n",
            "         [600, 610, 620, 630]]])\n",
            "-----------------\n",
            "tensor([  0,  10,  20,  30,  40,  50,  60,  70,  80,  90, 100, 110, 120, 130,\n",
            "        140, 150, 220, 230, 240, 250, 260, 270, 280, 290, 300, 310, 320, 330,\n",
            "        340, 350, 360, 370, 380, 390, 400, 410, 420, 430, 440, 450, 460, 470,\n",
            "        480, 490, 500, 510, 520, 530, 540, 550, 560, 570, 580, 590, 600, 610,\n",
            "        620, 630])\n",
            "---------------\n",
            "tf.Tensor([  0  10  20  30  40  50  60  70  80  90 100 110 120 130 250 260], shape=(16,), dtype=int64)\n"
          ]
        }
      ]
    },
    {
      "cell_type": "code",
      "source": [
        "#where 함수 : numpy 의 idx\n",
        "\n",
        "import numpy as np\n",
        "\n",
        "r = np.random.default_rng(seed = 32)\n",
        "\n",
        "a = r.random((3,3,3)).astype(np.float32) * 10\n",
        "\n",
        "bm = a>=5.\n",
        "idxs = np.where(a>=5)\n",
        "\n",
        "print(a)\n",
        "print('-------------')\n",
        "print(np.array(idxs).shape)\n",
        "print(idxs)"
      ],
      "metadata": {
        "colab": {
          "base_uri": "https://localhost:8080/"
        },
        "id": "p-gJAvmoLPpY",
        "outputId": "3673f99c-babc-49b5-bbcd-7b6486cbe8e0"
      },
      "execution_count": 17,
      "outputs": [
        {
          "output_type": "stream",
          "name": "stdout",
          "text": [
            "[[[1.6024282  5.722295   3.7713554 ]\n",
            "  [3.229352   6.8661394  9.722321  ]\n",
            "  [9.668303   6.7129846  8.301016  ]]\n",
            "\n",
            " [[4.5971184  3.1707754  5.4255624 ]\n",
            "  [6.0122337  9.130272   4.0845737 ]\n",
            "  [5.5091596  4.104853   1.5238988 ]]\n",
            "\n",
            " [[0.4054205  2.3318279  6.077842  ]\n",
            "  [9.048278   0.08684255 4.59207   ]\n",
            "  [8.125638   9.617895   1.6119792 ]]]\n",
            "-------------\n",
            "(3, 14)\n",
            "(array([0, 0, 0, 0, 0, 0, 1, 1, 1, 1, 2, 2, 2, 2]), array([0, 1, 1, 2, 2, 2, 0, 1, 1, 2, 0, 1, 2, 2]), array([1, 1, 2, 0, 1, 2, 2, 0, 1, 0, 2, 0, 0, 1]))\n"
          ]
        }
      ]
    },
    {
      "cell_type": "markdown",
      "source": [
        "----------- Vector Operation ------------"
      ],
      "metadata": {
        "id": "k45DEnCab9rp"
      }
    },
    {
      "cell_type": "code",
      "source": [
        "def add_vectors(x,y):\n",
        "  result = []\n",
        "  for i in range(len(x)):\n",
        "    result.append(x[i] + y[i])\n",
        "  return result\n",
        "\n",
        "x = np.array([11,22,33])\n",
        "y = np.array([22,34,36])\n",
        "\n",
        "z = add_vectors(x,y)\n",
        "\n",
        "print(z)\n",
        "\n",
        "import numpy as np #numpy 로 vector operation 하는 방안\n",
        "\n",
        "z = np.add(x,y)\n",
        "\n",
        "print(z)"
      ],
      "metadata": {
        "colab": {
          "base_uri": "https://localhost:8080/"
        },
        "id": "z_G8eVraZQ1C",
        "outputId": "80bcb9d5-88cf-43fe-e4b6-ec61c46c0883"
      },
      "execution_count": 19,
      "outputs": [
        {
          "output_type": "stream",
          "name": "stdout",
          "text": [
            "[33, 56, 69]\n",
            "[33 56 69]\n"
          ]
        }
      ]
    },
    {
      "cell_type": "code",
      "source": [
        "# exponential\n",
        "import torch\n",
        "import tensorflow as tf\n",
        "import numpy as np\n",
        "a = np.arange(6).reshape((3,2)).astype(np.float32)\n",
        "\n",
        "c = np.exp(a)\n",
        "\n",
        "print(a)\n",
        "print(c)"
      ],
      "metadata": {
        "colab": {
          "base_uri": "https://localhost:8080/"
        },
        "id": "iNWpMMlCcswy",
        "outputId": "3954ff4e-d6fa-4452-9599-7627c53be60d"
      },
      "execution_count": 4,
      "outputs": [
        {
          "output_type": "stream",
          "name": "stdout",
          "text": [
            "[[0. 1.]\n",
            " [2. 3.]\n",
            " [4. 5.]]\n",
            "[[  1.          2.718282 ]\n",
            " [  7.3890557  20.085537 ]\n",
            " [ 54.59815   148.41316  ]]\n"
          ]
        }
      ]
    },
    {
      "cell_type": "markdown",
      "source": [
        "NaN safe functions 제공 -> Aggregations(집계) (NaN 사용시 -> None 값은 넘기고 계산을 하는 구조.)\n"
      ],
      "metadata": {
        "id": "UBWZkulRCzPY"
      }
    },
    {
      "cell_type": "code",
      "source": [
        "d = np.mean(a, axis = 0) #axis 0으로 설정시 열의 평균을 내는것을 확인할 수 있음\n",
        "print(d)\n",
        "print('-----------')\n",
        "e = np.mean(a, axis = 1) #axis 1으로 설정시 각 행의 평균을 내는 것\n",
        "print(e)\n",
        "a_t = torch.tensor(a).float()\n",
        "print('-------------------')\n",
        "c_t = torch.median(a_t, dim=1)\n",
        "print(c_t)"
      ],
      "metadata": {
        "colab": {
          "base_uri": "https://localhost:8080/"
        },
        "id": "0uzliv98C5cw",
        "outputId": "0624228a-f9a6-4f68-9555-8ae65c2a0a09"
      },
      "execution_count": 18,
      "outputs": [
        {
          "output_type": "stream",
          "name": "stdout",
          "text": [
            "[2. 3.]\n",
            "-----------\n",
            "[0.5 2.5 4.5]\n",
            "-------------------\n",
            "torch.return_types.median(\n",
            "values=tensor([0., 2., 4.]),\n",
            "indices=tensor([0, 0, 0]))\n"
          ]
        }
      ]
    },
    {
      "cell_type": "code",
      "source": [],
      "metadata": {
        "id": "g0-B6guPC8gR"
      },
      "execution_count": null,
      "outputs": []
    }
  ]
}