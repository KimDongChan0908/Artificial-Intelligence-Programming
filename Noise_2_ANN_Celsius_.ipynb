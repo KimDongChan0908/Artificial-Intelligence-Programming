{
  "nbformat": 4,
  "nbformat_minor": 0,
  "metadata": {
    "colab": {
      "provenance": [],
      "authorship_tag": "ABX9TyMLwTdsjozab5Q9tw7PK1Zm",
      "include_colab_link": true
    },
    "kernelspec": {
      "name": "python3",
      "display_name": "Python 3"
    },
    "language_info": {
      "name": "python"
    }
  },
  "cells": [
    {
      "cell_type": "markdown",
      "metadata": {
        "id": "view-in-github",
        "colab_type": "text"
      },
      "source": [
        "<a href=\"https://colab.research.google.com/github/KimDongChan0908/Artificial-Intelligence-Programming/blob/Week---6---Class/Noise_2_ANN_Celsius_.ipynb\" target=\"_parent\"><img src=\"https://colab.research.google.com/assets/colab-badge.svg\" alt=\"Open In Colab\"/></a>"
      ]
    },
    {
      "cell_type": "code",
      "execution_count": 2,
      "metadata": {
        "colab": {
          "base_uri": "https://localhost:8080/"
        },
        "id": "J48duNAquuK-",
        "outputId": "b149a2f7-f686-47e4-9565-805b351b66b8"
      },
      "outputs": [
        {
          "output_type": "stream",
          "name": "stdout",
          "text": [
            "  Preparing metadata (setup.py) ... \u001b[?25l\u001b[?25hdone\n",
            "  Building wheel for torchviz (setup.py) ... \u001b[?25l\u001b[?25hdone\n"
          ]
        }
      ],
      "source": [
        "pip install --quiet torchviz"
      ]
    },
    {
      "cell_type": "code",
      "source": [
        "pip install torchsummary"
      ],
      "metadata": {
        "colab": {
          "base_uri": "https://localhost:8080/"
        },
        "id": "AvyFZV3kuy1C",
        "outputId": "37fc26f1-f0e7-4b97-c32a-e3e8d0c1ba3f"
      },
      "execution_count": 3,
      "outputs": [
        {
          "output_type": "stream",
          "name": "stdout",
          "text": [
            "Requirement already satisfied: torchsummary in /usr/local/lib/python3.10/dist-packages (1.5.1)\n"
          ]
        }
      ]
    },
    {
      "cell_type": "code",
      "source": [
        "import numpy as np\n",
        "import torch\n",
        "import matplotlib.pyplot as plt\n",
        "import torchviz\n",
        "import torchsummary\n",
        "\n",
        "for c in [np, torch]:\n",
        "    print(c.__name__, c.__version__)"
      ],
      "metadata": {
        "colab": {
          "base_uri": "https://localhost:8080/"
        },
        "id": "Hov0ejBKu0Zn",
        "outputId": "0b9a899e-66d5-41f4-ca78-725140d59722"
      },
      "execution_count": 4,
      "outputs": [
        {
          "output_type": "stream",
          "name": "stdout",
          "text": [
            "numpy 1.25.2\n",
            "torch 2.2.1+cu121\n"
          ]
        }
      ]
    },
    {
      "cell_type": "code",
      "source": [
        "from torch.nn import Module, init, Linear, Parameter, ReLU\n",
        "from torch import optim"
      ],
      "metadata": {
        "id": "VP-nDQklv41k"
      },
      "execution_count": 5,
      "outputs": []
    },
    {
      "cell_type": "code",
      "source": [
        "def gen_xy(cnt, std =2.):\n",
        "\n",
        "    x = np.linspace(-10, 10, cnt)\n",
        "    y_ideal = 1.8 * x + 32.\n",
        "    y = y_ideal + std * np.random.randn((cnt))\n",
        "\n",
        "    x = torch.tensor(x).float().reshape(-1,1)\n",
        "    y = torch.tensor(y).float().reshape(-1,1)\n",
        "    y_ideal = torch.tensor(y_ideal).float().reshape(-1,1)\n",
        "\n",
        "    return x,y,y_ideal"
      ],
      "metadata": {
        "id": "uWpqcD1_wObP"
      },
      "execution_count": 22,
      "outputs": []
    },
    {
      "cell_type": "code",
      "source": [
        "sample_cnt = 20\n",
        "\n",
        "x, y, y_ideal = gen_xy(sample_cnt)\n",
        "\n",
        "fig,axes = plt.subplots(1,2,figsize = (6,3))\n",
        "axes[0].plot(x.detach(), y_ideal.detach())\n",
        "axes[1].scatter(x.detach(), y.detach())\n",
        "fig.suptitle('Celcius to Fahrenheit')\n",
        "print(x.shape, y.shape, y_ideal.shape)"
      ],
      "metadata": {
        "colab": {
          "base_uri": "https://localhost:8080/",
          "height": 339
        },
        "id": "HJsBXbsnxcsi",
        "outputId": "163e3be4-a481-4234-8c43-b3799f86c891"
      },
      "execution_count": 23,
      "outputs": [
        {
          "output_type": "stream",
          "name": "stdout",
          "text": [
            "torch.Size([20, 1]) torch.Size([20, 1]) torch.Size([20, 1])\n"
          ]
        },
        {
          "output_type": "display_data",
          "data": {
            "text/plain": [
              "<Figure size 600x300 with 2 Axes>"
            ],
            "image/png": "[encoded data removed]"
          },
          "metadata": {}
        }
      ]
    },
    {
      "cell_type": "code",
      "source": [
        "class DsANN(Module):\n",
        "\n",
        "    def __init__(self,\n",
        "                 n_in_f,\n",
        "                 n_out_f,\n",
        "                 ):\n",
        "        super().__init__()\n",
        "\n",
        "        self.linear0 = Linear(n_in_f, 32)\n",
        "        self.relu0 = ReLU()\n",
        "\n",
        "        self.linear1 = Linear(32,32)\n",
        "        self.relu1 = ReLU()\n",
        "\n",
        "        self.linear2 = Linear(32, n_out_f)\n",
        "\n",
        "        with torch.no_grad():\n",
        "            init.constant_(self.linear0.bias, 0.)\n",
        "            init.xavier_uniform_(self.linear0.weight)\n",
        "\n",
        "    def forward(self, x):\n",
        "        x = self.linear0(x)\n",
        "        x = self.relu0(x)\n",
        "        x = self.linear1(x)\n",
        "        x = self.relu1(x)\n",
        "        y = self.linear2(x)\n",
        "\n",
        "        return y\n"
      ],
      "metadata": {
        "id": "HSyPODtdzNnR"
      },
      "execution_count": 24,
      "outputs": []
    },
    {
      "cell_type": "code",
      "source": [
        "model = DsANN(1,1)\n",
        "\n",
        "for idx,c in enumerate(model.parameters()):\n",
        "    print(idx, c.shape)"
      ],
      "metadata": {
        "colab": {
          "base_uri": "https://localhost:8080/"
        },
        "id": "-e17Nj399dk3",
        "outputId": "8c49e15b-d778-463f-f67c-3b0d81fa4d17"
      },
      "execution_count": 25,
      "outputs": [
        {
          "output_type": "stream",
          "name": "stdout",
          "text": [
            "0 torch.Size([32, 1])\n",
            "1 torch.Size([32])\n",
            "2 torch.Size([32, 32])\n",
            "3 torch.Size([32])\n",
            "4 torch.Size([1, 32])\n",
            "5 torch.Size([1])\n"
          ]
        }
      ]
    },
    {
      "cell_type": "code",
      "source": [
        "for idx, cl in enumerate(model.children()):\n",
        "    print(idx, cl)"
      ],
      "metadata": {
        "colab": {
          "base_uri": "https://localhost:8080/"
        },
        "id": "7dvKTnk_NkCA",
        "outputId": "7d488752-b2f0-4034-f1b4-85161a0f4831"
      },
      "execution_count": 26,
      "outputs": [
        {
          "output_type": "stream",
          "name": "stdout",
          "text": [
            "0 Linear(in_features=1, out_features=32, bias=True)\n",
            "1 ReLU()\n",
            "2 Linear(in_features=32, out_features=32, bias=True)\n",
            "3 ReLU()\n",
            "4 Linear(in_features=32, out_features=1, bias=True)\n"
          ]
        }
      ]
    },
    {
      "cell_type": "code",
      "source": [
        "for idx, modu in enumerate(model.modules()):\n",
        "    print(idx, modu)"
      ],
      "metadata": {
        "colab": {
          "base_uri": "https://localhost:8080/"
        },
        "id": "x0SU46ZAOyXL",
        "outputId": "e34e266e-1da7-4114-b1a2-be9be33e0e91"
      },
      "execution_count": 27,
      "outputs": [
        {
          "output_type": "stream",
          "name": "stdout",
          "text": [
            "0 DsANN(\n",
            "  (linear0): Linear(in_features=1, out_features=32, bias=True)\n",
            "  (relu0): ReLU()\n",
            "  (linear1): Linear(in_features=32, out_features=32, bias=True)\n",
            "  (relu1): ReLU()\n",
            "  (linear2): Linear(in_features=32, out_features=1, bias=True)\n",
            ")\n",
            "1 Linear(in_features=1, out_features=32, bias=True)\n",
            "2 ReLU()\n",
            "3 Linear(in_features=32, out_features=32, bias=True)\n",
            "4 ReLU()\n",
            "5 Linear(in_features=32, out_features=1, bias=True)\n"
          ]
        }
      ]
    },
    {
      "cell_type": "code",
      "source": [
        "from torchsummary import summary\n",
        "\n",
        "summary(model, (1,))"
      ],
      "metadata": {
        "colab": {
          "base_uri": "https://localhost:8080/"
        },
        "id": "5CW4Min4PU3p",
        "outputId": "7a1888e5-1877-450e-d9fc-9f9af3dabf61"
      },
      "execution_count": 28,
      "outputs": [
        {
          "output_type": "stream",
          "name": "stdout",
          "text": [
            "----------------------------------------------------------------\n",
            "        Layer (type)               Output Shape         Param #\n",
            "================================================================\n",
            "            Linear-1                   [-1, 32]              64\n",
            "              ReLU-2                   [-1, 32]               0\n",
            "            Linear-3                   [-1, 32]           1,056\n",
            "              ReLU-4                   [-1, 32]               0\n",
            "            Linear-5                    [-1, 1]              33\n",
            "================================================================\n",
            "Total params: 1,153\n",
            "Trainable params: 1,153\n",
            "Non-trainable params: 0\n",
            "----------------------------------------------------------------\n",
            "Input size (MB): 0.00\n",
            "Forward/backward pass size (MB): 0.00\n",
            "Params size (MB): 0.00\n",
            "Estimated Total Size (MB): 0.01\n",
            "----------------------------------------------------------------\n"
          ]
        }
      ]
    },
    {
      "cell_type": "code",
      "source": [
        "from torch.nn import MSELoss\n",
        "\n",
        "pred = model(x)\n",
        "\n",
        "loss_fnc = MSELoss()\n",
        "l = loss_fnc(pred, y)\n",
        "l\n"
      ],
      "metadata": {
        "colab": {
          "base_uri": "https://localhost:8080/"
        },
        "id": "_g1lG3MLPbm5",
        "outputId": "4b20e38c-f773-48c7-82a4-5a8c0aefe4b7"
      },
      "execution_count": 29,
      "outputs": [
        {
          "output_type": "execute_result",
          "data": {
            "text/plain": [
              "tensor(1143.1707, grad_fn=<MseLossBackward0>)"
            ]
          },
          "metadata": {},
          "execution_count": 29
        }
      ]
    },
    {
      "cell_type": "code",
      "source": [
        "def training_loop(\n",
        "        x,y,\n",
        "        model,\n",
        "        lr,\n",
        "        n_epochs\n",
        "):\n",
        "\n",
        "    model.train()\n",
        "    optimizer = optim.SGD(\n",
        "        model.parameters(),\n",
        "        lr = lr ,)\n",
        "\n",
        "\n",
        "    for epoch in range(n_epochs):\n",
        "        pred = model(x)\n",
        "        l = loss_fnc(pred, y)\n",
        "        if torch.isinf(l).any():\n",
        "            print(\"Error : diverge!\")\n",
        "            break\n",
        "\n",
        "        optimizer.zero_grad()\n",
        "        l.backward()\n",
        "        optimizer.step()\n",
        "\n",
        "        if epoch % 1000 == 0:\n",
        "            print(f'Epoch {epoch} : Loss : {float(l):0.4f}')\n",
        "    return model"
      ],
      "metadata": {
        "id": "hw8VyKkHQqUr"
      },
      "execution_count": 30,
      "outputs": []
    },
    {
      "cell_type": "code",
      "source": [
        "model = training_loop(\n",
        "    x,y,\n",
        "    model,\n",
        "    1e-3,\n",
        "    7000\n",
        ")"
      ],
      "metadata": {
        "colab": {
          "base_uri": "https://localhost:8080/"
        },
        "id": "RZQVZ9Y1RT06",
        "outputId": "d4386a41-1339-43f0-a9d0-7a73b325a6c7"
      },
      "execution_count": 31,
      "outputs": [
        {
          "output_type": "stream",
          "name": "stdout",
          "text": [
            "Epoch 0 : Loss : 1143.1707\n",
            "Epoch 1000 : Loss : 3.6185\n",
            "Epoch 2000 : Loss : 2.5166\n",
            "Epoch 3000 : Loss : 2.4911\n",
            "Epoch 4000 : Loss : 2.4704\n",
            "Epoch 5000 : Loss : 2.5312\n",
            "Epoch 6000 : Loss : 2.4838\n"
          ]
        }
      ]
    },
    {
      "cell_type": "code",
      "source": [
        "pred = model(x)\n",
        "\n",
        "\n",
        "fig, axes = plt.subplots(1,1)\n",
        "axes.scatter(x.detach().numpy(),y.detach().numpy())\n",
        "axes.plot(x.detach().numpy(),pred.detach().numpy(), color='r')\n",
        "axes.plot(x.detach().numpy(),y_ideal, color='g')\n",
        "fig.suptitle('celsius to fahrenheit')\n",
        "\n"
      ],
      "metadata": {
        "colab": {
          "base_uri": "https://localhost:8080/",
          "height": 496
        },
        "id": "4pPiitnORpDT",
        "outputId": "5ae8876a-b4e1-43b7-8b74-5f373ab3bbb9"
      },
      "execution_count": 36,
      "outputs": [
        {
          "output_type": "execute_result",
          "data": {
            "text/plain": [
              "Text(0.5, 0.98, 'celsius to fahrenheit')"
            ]
          },
          "metadata": {},
          "execution_count": 36
        },
        {
          "output_type": "display_data",
          "data": {
            "text/plain": [
              "<Figure size 640x480 with 1 Axes>"
            ],
            "image/png": "[encoded data removed]"
          },
          "metadata": {}
        }
      ]
    },
    {
      "cell_type": "code",
      "source": [],
      "metadata": {
        "id": "ovlGzr88ShW2"
      },
      "execution_count": null,
      "outputs": []
    }
  ]
}