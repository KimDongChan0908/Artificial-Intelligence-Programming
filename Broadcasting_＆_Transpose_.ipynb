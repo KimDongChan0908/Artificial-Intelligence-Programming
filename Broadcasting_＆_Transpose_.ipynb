{
  "nbformat": 4,
  "nbformat_minor": 0,
  "metadata": {
    "colab": {
      "provenance": [],
      "authorship_tag": "ABX9TyPgdT7VT2MJ31aFOIdWWYju",
      "include_colab_link": true
    },
    "kernelspec": {
      "name": "python3",
      "display_name": "Python 3"
    },
    "language_info": {
      "name": "python"
    }
  },
  "cells": [
    {
      "cell_type": "markdown",
      "metadata": {
        "id": "view-in-github",
        "colab_type": "text"
      },
      "source": [
        "<a href=\"https://colab.research.google.com/github/KimDongChan0908/Artificial-Intelligence-Programming/blob/main/Broadcasting_%EF%BC%86_Transpose_.ipynb\" target=\"_parent\"><img src=\"https://colab.research.google.com/assets/colab-badge.svg\" alt=\"Open In Colab\"/></a>"
      ]
    },
    {
      "cell_type": "markdown",
      "source": [
        "Broadcasting이란 Numpy와 같은 배열 연산 라이브러리에서 다른 모양(shape)의 배열 간에 연산을 수행 할 수 있다."
      ],
      "metadata": {
        "id": "pef59-l8Hrjo"
      }
    },
    {
      "cell_type": "code",
      "execution_count": 2,
      "metadata": {
        "colab": {
          "base_uri": "https://localhost:8080/"
        },
        "id": "LfphDaVKHGOg",
        "outputId": "c80ab1c5-4b96-4a08-9acb-2bf33e28510f"
      },
      "outputs": [
        {
          "output_type": "stream",
          "name": "stdout",
          "text": [
            "[[2 4 6]\n",
            " [5 7 9]]\n"
          ]
        }
      ],
      "source": [
        "#Example (BroadCcasting)\n",
        "\n",
        "import numpy as np\n",
        "\n",
        "a = np.array([[1,2,3],[4,5,6]])\n",
        "b = np.array([1,2,3])\n",
        "\n",
        "result = a+b\n",
        "\n",
        "print(result)"
      ]
    },
    {
      "cell_type": "markdown",
      "source": [
        "배열 'a'의 크기가 (2,3)이고 배열 'b' 의 크기는 (3,)이다. 브로드캐스팅을 통해 'b'가 배열 'a'와 동일한 모양으로 확장되어 두 배열 간의 요소별 덧셈이 수행된다.\n",
        "\n",
        "-----\n",
        "하지만 여기서 Rule이 존재한다.\n",
        "\n",
        "첫번째, 두 ndarray의 차원의 수(number of dimensions)가 같지 않을 경우, 적은 ndarray의 shape가 leading slde쪽(shape에서 왼쪽)으로 1로 padding된다.\n",
        "\n",
        "if) A의 shape (3,4,1)이고, B의 shape가 (1,2)이면, B가 2차원에서 3차원으로 늘어나고 left side에 1이 추가되어 (1,1,2)로 padding된 shape이 됨"
      ],
      "metadata": {
        "id": "uPB6uCOTI6EC"
      }
    },
    {
      "cell_type": "code",
      "source": [
        "a = np.ones((3,4,1))\n",
        "b = np.ones((1,2))\n",
        "print(b)\n",
        "print(c.shape)"
      ],
      "metadata": {
        "colab": {
          "base_uri": "https://localhost:8080/"
        },
        "id": "55E_94jDIwLD",
        "outputId": "8c3370e3-ee58-4538-91bc-109279bb8cc0"
      },
      "execution_count": 7,
      "outputs": [
        {
          "output_type": "stream",
          "name": "stdout",
          "text": [
            "[[1. 1.]]\n",
            "(3, 4, 2)\n"
          ]
        }
      ]
    },
    {
      "cell_type": "markdown",
      "source": [
        "두번째, shape에서 대응되는 값들이 일치하지 않을 경우, ndarray 각각에서 shape가 1인 차원이 상대방의 해당하는 차원의 shape로 변경된다.\n",
        "\n",
        "세번째, 두번째 룰을 적용하라고 할때, shape가 일치하지 않으면서 어느 한 쪽 ndarray가 1이 아닌 경우엔 broadcasting이 실패함."
      ],
      "metadata": {
        "id": "wDheP8xHLDP8"
      }
    },
    {
      "cell_type": "markdown",
      "source": [
        "Transpose(전치) - m x n matrix A 가 존재한다고 했을 때 A의 전치행렬은 n x m (행과 열의 순서를 바꿔주는) matrix가 된다.  \n",
        "\n",
        "---\n",
        "Tensor에서의 transpose는 여러 축들 중 2개를 서로의 위치를 바꾸는 것을 의미한다."
      ],
      "metadata": {
        "id": "HrOgBbBjPtXH"
      }
    },
    {
      "cell_type": "code",
      "source": [
        "import numpy as np\n",
        "a = np.random.rand(3,4)\n",
        "\n",
        "t1 = np.transpose(a)\n",
        "t2 = a.T\n",
        "\n",
        "print(a.shape)\n",
        "print(t1.shape)\n",
        "print(t2.shape)\n",
        "\n",
        "t2[0,1] = 777\n",
        "print(a[1,0])\n",
        "print(t1[0,1])\n",
        "print(t2[0,1])"
      ],
      "metadata": {
        "colab": {
          "base_uri": "https://localhost:8080/"
        },
        "id": "U0_loJLCKJZm",
        "outputId": "3f76741a-5526-4156-8df9-c30f60ef7a6d"
      },
      "execution_count": 3,
      "outputs": [
        {
          "output_type": "stream",
          "name": "stdout",
          "text": [
            "(3, 4)\n",
            "(4, 3)\n",
            "(4, 3)\n",
            "777.0\n",
            "777.0\n",
            "777.0\n"
          ]
        }
      ]
    },
    {
      "cell_type": "code",
      "source": [
        "import torch\n",
        "import tensorflow as tf\n",
        "\n",
        "a_torch = torch.rand(2,3)\n",
        "\n",
        "t1_torch = torch.transpose(a_torch, 0, 1)\n",
        "t2_torch = a_torch.T\n",
        "\n",
        "print(a_torch.shape)\n",
        "print(t1_torch.shape)\n",
        "print(t2_torch.shape)"
      ],
      "metadata": {
        "colab": {
          "base_uri": "https://localhost:8080/"
        },
        "id": "qHI96qmYxDjF",
        "outputId": "c7d1dd42-c511-499c-fdb1-c9d8450aa6d2"
      },
      "execution_count": 6,
      "outputs": [
        {
          "output_type": "stream",
          "name": "stdout",
          "text": [
            "torch.Size([2, 3])\n",
            "torch.Size([3, 2])\n",
            "torch.Size([3, 2])\n"
          ]
        }
      ]
    },
    {
      "cell_type": "code",
      "source": [
        "a_tf = tf.random.normal([2,3])\n",
        "t1_tf = tf.transpose(a_tf)\n",
        "t2_tf = tf.transpose(a_tf, perm =[1,0]) #perm은 tensorflow의 tf.transpose() 함수에서 사용되는 매개변수 중 하나.\n",
        "# Transpose 작업에서 차원의 순서를 지정 [1,0] 은 2차원 배열에서 첫번째 축과 두번째 축의 순서가 바뀐다.\n",
        "\n",
        "print(a_tf.shape, a_tf.dtype)\n",
        "print(t1_tf.shape, t1_tf.dtype)\n",
        "\n",
        "indices = tf.constant([0,1])\n",
        "updates = tf.constant([77], dtype = tf.float32)\n",
        "t2_tf = tf.tensor_scatter_nd_update(t2_tf, indices, updates)\n",
        "\n",
        "print(a_tf[1,0])\n",
        "print(t1_tf[0,1])\n",
        "print(t2_tf[0,1])"
      ],
      "metadata": {
        "colab": {
          "base_uri": "https://localhost:8080/",
          "height": 447
        },
        "id": "o1fu9Mk8yGdk",
        "outputId": "e2b5b04a-c663-4163-eba6-16eb8d7a626d"
      },
      "execution_count": 7,
      "outputs": [
        {
          "output_type": "stream",
          "name": "stdout",
          "text": [
            "(2, 3) <dtype: 'float32'>\n",
            "(3, 2) <dtype: 'float32'>\n"
          ]
        },
        {
          "output_type": "error",
          "ename": "InvalidArgumentError",
          "evalue": "{{function_node __wrapped__TensorScatterUpdate_device_/job:localhost/replica:0/task:0/device:CPU:0}} Inner dimensions of output shape must match inner dimensions of updates shape. Output: [3,2] updates: [1] [Op:TensorScatterUpdate] name: ",
          "traceback": [
            "\u001b[0;31m---------------------------------------------------------------------------\u001b[0m",
            "\u001b[0;31mInvalidArgumentError\u001b[0m                      Traceback (most recent call last)",
            "\u001b[0;32m<ipython-input-7-57c09e87ddbb>\u001b[0m in \u001b[0;36m<cell line: 11>\u001b[0;34m()\u001b[0m\n\u001b[1;32m      9\u001b[0m \u001b[0mindices\u001b[0m \u001b[0;34m=\u001b[0m \u001b[0mtf\u001b[0m\u001b[0;34m.\u001b[0m\u001b[0mconstant\u001b[0m\u001b[0;34m(\u001b[0m\u001b[0;34m[\u001b[0m\u001b[0;36m0\u001b[0m\u001b[0;34m,\u001b[0m\u001b[0;36m1\u001b[0m\u001b[0;34m]\u001b[0m\u001b[0;34m)\u001b[0m\u001b[0;34m\u001b[0m\u001b[0;34m\u001b[0m\u001b[0m\n\u001b[1;32m     10\u001b[0m \u001b[0mupdates\u001b[0m \u001b[0;34m=\u001b[0m \u001b[0mtf\u001b[0m\u001b[0;34m.\u001b[0m\u001b[0mconstant\u001b[0m\u001b[0;34m(\u001b[0m\u001b[0;34m[\u001b[0m\u001b[0;36m77\u001b[0m\u001b[0;34m]\u001b[0m\u001b[0;34m,\u001b[0m \u001b[0mdtype\u001b[0m \u001b[0;34m=\u001b[0m \u001b[0mtf\u001b[0m\u001b[0;34m.\u001b[0m\u001b[0mfloat32\u001b[0m\u001b[0;34m)\u001b[0m\u001b[0;34m\u001b[0m\u001b[0;34m\u001b[0m\u001b[0m\n\u001b[0;32m---> 11\u001b[0;31m \u001b[0mt2_tf\u001b[0m \u001b[0;34m=\u001b[0m \u001b[0mtf\u001b[0m\u001b[0;34m.\u001b[0m\u001b[0mtensor_scatter_nd_update\u001b[0m\u001b[0;34m(\u001b[0m\u001b[0mt2_tf\u001b[0m\u001b[0;34m,\u001b[0m \u001b[0mindices\u001b[0m\u001b[0;34m,\u001b[0m \u001b[0mupdates\u001b[0m\u001b[0;34m)\u001b[0m\u001b[0;34m\u001b[0m\u001b[0;34m\u001b[0m\u001b[0m\n\u001b[0m\u001b[1;32m     12\u001b[0m \u001b[0;34m\u001b[0m\u001b[0m\n\u001b[1;32m     13\u001b[0m \u001b[0mprint\u001b[0m\u001b[0;34m(\u001b[0m\u001b[0ma_tf\u001b[0m\u001b[0;34m[\u001b[0m\u001b[0;36m1\u001b[0m\u001b[0;34m,\u001b[0m\u001b[0;36m0\u001b[0m\u001b[0;34m]\u001b[0m\u001b[0;34m)\u001b[0m\u001b[0;34m\u001b[0m\u001b[0;34m\u001b[0m\u001b[0m\n",
            "\u001b[0;32m/usr/local/lib/python3.10/dist-packages/tensorflow/python/util/traceback_utils.py\u001b[0m in \u001b[0;36merror_handler\u001b[0;34m(*args, **kwargs)\u001b[0m\n\u001b[1;32m    151\u001b[0m     \u001b[0;32mexcept\u001b[0m \u001b[0mException\u001b[0m \u001b[0;32mas\u001b[0m \u001b[0me\u001b[0m\u001b[0;34m:\u001b[0m\u001b[0;34m\u001b[0m\u001b[0;34m\u001b[0m\u001b[0m\n\u001b[1;32m    152\u001b[0m       \u001b[0mfiltered_tb\u001b[0m \u001b[0;34m=\u001b[0m \u001b[0m_process_traceback_frames\u001b[0m\u001b[0;34m(\u001b[0m\u001b[0me\u001b[0m\u001b[0;34m.\u001b[0m\u001b[0m__traceback__\u001b[0m\u001b[0;34m)\u001b[0m\u001b[0;34m\u001b[0m\u001b[0;34m\u001b[0m\u001b[0m\n\u001b[0;32m--> 153\u001b[0;31m       \u001b[0;32mraise\u001b[0m \u001b[0me\u001b[0m\u001b[0;34m.\u001b[0m\u001b[0mwith_traceback\u001b[0m\u001b[0;34m(\u001b[0m\u001b[0mfiltered_tb\u001b[0m\u001b[0;34m)\u001b[0m \u001b[0;32mfrom\u001b[0m \u001b[0;32mNone\u001b[0m\u001b[0;34m\u001b[0m\u001b[0;34m\u001b[0m\u001b[0m\n\u001b[0m\u001b[1;32m    154\u001b[0m     \u001b[0;32mfinally\u001b[0m\u001b[0;34m:\u001b[0m\u001b[0;34m\u001b[0m\u001b[0;34m\u001b[0m\u001b[0m\n\u001b[1;32m    155\u001b[0m       \u001b[0;32mdel\u001b[0m \u001b[0mfiltered_tb\u001b[0m\u001b[0;34m\u001b[0m\u001b[0;34m\u001b[0m\u001b[0m\n",
            "\u001b[0;32m/usr/local/lib/python3.10/dist-packages/tensorflow/python/framework/ops.py\u001b[0m in \u001b[0;36mraise_from_not_ok_status\u001b[0;34m(e, name)\u001b[0m\n\u001b[1;32m   5881\u001b[0m \u001b[0;32mdef\u001b[0m \u001b[0mraise_from_not_ok_status\u001b[0m\u001b[0;34m(\u001b[0m\u001b[0me\u001b[0m\u001b[0;34m,\u001b[0m \u001b[0mname\u001b[0m\u001b[0;34m)\u001b[0m \u001b[0;34m->\u001b[0m \u001b[0mNoReturn\u001b[0m\u001b[0;34m:\u001b[0m\u001b[0;34m\u001b[0m\u001b[0;34m\u001b[0m\u001b[0m\n\u001b[1;32m   5882\u001b[0m   \u001b[0me\u001b[0m\u001b[0;34m.\u001b[0m\u001b[0mmessage\u001b[0m \u001b[0;34m+=\u001b[0m \u001b[0;34m(\u001b[0m\u001b[0;34m\" name: \"\u001b[0m \u001b[0;34m+\u001b[0m \u001b[0mstr\u001b[0m\u001b[0;34m(\u001b[0m\u001b[0mname\u001b[0m \u001b[0;32mif\u001b[0m \u001b[0mname\u001b[0m \u001b[0;32mis\u001b[0m \u001b[0;32mnot\u001b[0m \u001b[0;32mNone\u001b[0m \u001b[0;32melse\u001b[0m \u001b[0;34m\"\"\u001b[0m\u001b[0;34m)\u001b[0m\u001b[0;34m)\u001b[0m\u001b[0;34m\u001b[0m\u001b[0;34m\u001b[0m\u001b[0m\n\u001b[0;32m-> 5883\u001b[0;31m   \u001b[0;32mraise\u001b[0m \u001b[0mcore\u001b[0m\u001b[0;34m.\u001b[0m\u001b[0m_status_to_exception\u001b[0m\u001b[0;34m(\u001b[0m\u001b[0me\u001b[0m\u001b[0;34m)\u001b[0m \u001b[0;32mfrom\u001b[0m \u001b[0;32mNone\u001b[0m  \u001b[0;31m# pylint: disable=protected-access\u001b[0m\u001b[0;34m\u001b[0m\u001b[0;34m\u001b[0m\u001b[0m\n\u001b[0m\u001b[1;32m   5884\u001b[0m \u001b[0;34m\u001b[0m\u001b[0m\n\u001b[1;32m   5885\u001b[0m \u001b[0;34m\u001b[0m\u001b[0m\n",
            "\u001b[0;31mInvalidArgumentError\u001b[0m: {{function_node __wrapped__TensorScatterUpdate_device_/job:localhost/replica:0/task:0/device:CPU:0}} Inner dimensions of output shape must match inner dimensions of updates shape. Output: [3,2] updates: [1] [Op:TensorScatterUpdate] name: "
          ]
        }
      ]
    },
    {
      "cell_type": "code",
      "source": [],
      "metadata": {
        "id": "FP-FUjC00cce"
      },
      "execution_count": null,
      "outputs": []
    }
  ]
}