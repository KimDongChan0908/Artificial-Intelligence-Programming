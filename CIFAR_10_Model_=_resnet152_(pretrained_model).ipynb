{
  "nbformat": 4,
  "nbformat_minor": 0,
  "metadata": {
    "colab": {
      "provenance": [],
      "gpuType": "T4",
      "authorship_tag": "ABX9TyOTWIocuMunTjd4lLhHY/Oz",
      "include_colab_link": true
    },
    "kernelspec": {
      "name": "python3",
      "display_name": "Python 3"
    },
    "language_info": {
      "name": "python"
    },
    "accelerator": "GPU"
  },
  "cells": [
    {
      "cell_type": "markdown",
      "metadata": {
        "id": "view-in-github",
        "colab_type": "text"
      },
      "source": [
        "<a href=\"https://colab.research.google.com/github/KimDongChan0908/Artificial-Intelligence-Programming/blob/week---13---class/CIFAR_10_Model_%3D_resnet152_(pretrained_model).ipynb\" target=\"_parent\"><img src=\"https://colab.research.google.com/assets/colab-badge.svg\" alt=\"Open In Colab\"/></a>"
      ]
    },
    {
      "cell_type": "code",
      "execution_count": 1,
      "metadata": {
        "colab": {
          "base_uri": "https://localhost:8080/"
        },
        "id": "CPNgw66sWhtE",
        "outputId": "66421139-4d58-45e4-d85d-7ca4a499537b"
      },
      "outputs": [
        {
          "output_type": "stream",
          "name": "stdout",
          "text": [
            "Requirement already satisfied: py7zr in /usr/local/lib/python3.10/dist-packages (0.21.0)\n",
            "Requirement already satisfied: texttable in /usr/local/lib/python3.10/dist-packages (from py7zr) (1.7.0)\n",
            "Requirement already satisfied: pycryptodomex>=3.16.0 in /usr/local/lib/python3.10/dist-packages (from py7zr) (3.20.0)\n",
            "Requirement already satisfied: pyzstd>=0.15.9 in /usr/local/lib/python3.10/dist-packages (from py7zr) (0.16.0)\n",
            "Requirement already satisfied: pyppmd<1.2.0,>=1.1.0 in /usr/local/lib/python3.10/dist-packages (from py7zr) (1.1.0)\n",
            "Requirement already satisfied: pybcj<1.1.0,>=1.0.0 in /usr/local/lib/python3.10/dist-packages (from py7zr) (1.0.2)\n",
            "Requirement already satisfied: multivolumefile>=0.2.3 in /usr/local/lib/python3.10/dist-packages (from py7zr) (0.2.3)\n",
            "Requirement already satisfied: inflate64<1.1.0,>=1.0.0 in /usr/local/lib/python3.10/dist-packages (from py7zr) (1.0.0)\n",
            "Requirement already satisfied: brotli>=1.1.0 in /usr/local/lib/python3.10/dist-packages (from py7zr) (1.1.0)\n",
            "Requirement already satisfied: psutil in /usr/local/lib/python3.10/dist-packages (from py7zr) (5.9.5)\n"
          ]
        }
      ],
      "source": [
        "!pip install py7zr #아카이브 포맷파일을 압축하거나 해제하는데 사용하는 라이브러리"
      ]
    },
    {
      "cell_type": "markdown",
      "source": [
        "#Import Library"
      ],
      "metadata": {
        "id": "b6nF3AW4gSHC"
      }
    },
    {
      "cell_type": "code",
      "source": [
        "import numpy as np\n",
        "import pandas as pd\n",
        "import os\n",
        "import copy\n",
        "import matplotlib.pyplot as plt\n",
        "\n",
        "from PIL import Image\n",
        "\n",
        "import torch\n",
        "import torch.nn as nn\n",
        "import torch.nn.functional as F\n",
        "import torch.optim as optim\n",
        "import torchvision.transforms as transforms\n",
        "\n",
        "from torchvision import models\n",
        "import torchvision\n",
        "from torch.utils.data import DataLoader, Dataset, Subset\n",
        "\n",
        "from sklearn.model_selection import train_test_split\n",
        "\n",
        "device = torch.device('cuda' if torch.cuda.is_available() else 'cpu')\n",
        "\n",
        "import warnings\n",
        "warnings.filterwarnings('ignore')\n",
        "\n",
        "from py7zr import unpack_7zarchive\n",
        "import shutil\n",
        "shutil.register_unpack_format('7zip', ['.7z'], unpack_7zarchive)"
      ],
      "metadata": {
        "id": "6MbkDnheXdkK"
      },
      "execution_count": 2,
      "outputs": []
    },
    {
      "cell_type": "code",
      "source": [
        "num_epochs = 3\n",
        "batch_size = 32\n",
        "lr = 0.01"
      ],
      "metadata": {
        "id": "Xjl4tbzOfsB8"
      },
      "execution_count": 23,
      "outputs": []
    },
    {
      "cell_type": "markdown",
      "source": [
        "#Dataset"
      ],
      "metadata": {
        "id": "WPsS7fQ1g3pW"
      }
    },
    {
      "cell_type": "code",
      "source": [
        "class CifarLoader(Dataset):\n",
        "  def __init__(self, root_dir, csv_file = None, transform = None):\n",
        "\n",
        "    # images directory\n",
        "    self.root_dir = root_dir\n",
        "    # transformations if any\n",
        "    self.transform = transform\n",
        "\n",
        "    if csv_file:\n",
        "      # read csv file\n",
        "      self.df = pd.read_csv(csv_file)\n",
        "\n",
        "      # {class: lbl}\n",
        "      self.annot_dict = {}\n",
        "\n",
        "      for i, lbl in enumerate(self.df['label'].unique()):\n",
        "        self.annot_dict[lbl] = i\n",
        "\n",
        "      # {lbl: class}\n",
        "      self.annot_dict_reversed = {v:k for k,v in self.annot_dict.items()}\n",
        "\n",
        "      # add a column with decoded labels\n",
        "      self.df['encoded'] = self.df['label'].map(self.annot_dict)\n",
        "\n",
        "    else:\n",
        "      # if no csv file provided -> create a df, fill labels with 0's\n",
        "      self.df = pd.DataFrame({\n",
        "          'id': list(range(1, len(os.listdir(self.root_dir)) + 1)),\n",
        "          'label': np.zeros(len(os.listdir(self.root_dir))),\n",
        "          'encoded': np.zeros(len(os.listdir(self.root_dir)))\n",
        "      })\n",
        "\n",
        "\n",
        "  def __len__(self):\n",
        "    # num of records in the df\n",
        "    return len(self.df)\n",
        "\n",
        "  def __getitem__(self, index):\n",
        "    # path to the image\n",
        "    img_path = os.path.join(self.root_dir, str(self.df.iloc[index, 0]) + '.png')\n",
        "    # read image\n",
        "    image = np.array(Image.open(img_path).convert('RGB'))\n",
        "    # get label\n",
        "    y_label = torch.tensor(int(self.df.iloc[index, 2]))\n",
        "\n",
        "    # apply transformations\n",
        "    if self.transform:\n",
        "      image = self.transform(image)\n",
        "\n",
        "    return (image, y_label)"
      ],
      "metadata": {
        "id": "R8zf-3alg1-W"
      },
      "execution_count": 11,
      "outputs": []
    },
    {
      "cell_type": "code",
      "source": [
        "mean = np.array([0.5, 0.5, 0.5])\n",
        "std = np.array([0.25,0.25,0.25])\n",
        "\n",
        "tr = transforms.Compose([\n",
        "        transforms.ToPILImage(),\n",
        "        transforms.Resize((224, 224)),\n",
        "        transforms.ToTensor(),\n",
        "        transforms.Normalize(mean, std)\n",
        "    ])"
      ],
      "metadata": {
        "id": "kmsij-hqps6I"
      },
      "execution_count": 13,
      "outputs": []
    },
    {
      "cell_type": "markdown",
      "source": [
        "#Data Unpacking"
      ],
      "metadata": {
        "id": "wbDlXdaOtp8g"
      }
    },
    {
      "cell_type": "code",
      "source": [
        "shutil.unpack_archive('/content/train.7z')"
      ],
      "metadata": {
        "id": "AVHIc1D3qV78"
      },
      "execution_count": 14,
      "outputs": []
    },
    {
      "cell_type": "code",
      "source": [
        "dataset = CifarLoader(csv_file = '/content/trainLabels.csv',\n",
        "                      root_dir = '/content/train',\n",
        "                      transform = tr)\n",
        "\n",
        "print(dataset.df.head())"
      ],
      "metadata": {
        "colab": {
          "base_uri": "https://localhost:8080/"
        },
        "id": "zdgIMVPUqZQ1",
        "outputId": "f8bb6663-3141-4b39-d7b4-1babb39fe036"
      },
      "execution_count": 15,
      "outputs": [
        {
          "output_type": "stream",
          "name": "stdout",
          "text": [
            "   id       label  encoded\n",
            "0   1        frog        0\n",
            "1   2       truck        1\n",
            "2   3       truck        1\n",
            "3   4        deer        2\n",
            "4   5  automobile        3\n"
          ]
        }
      ]
    },
    {
      "cell_type": "markdown",
      "source": [
        "#Split  The Data"
      ],
      "metadata": {
        "id": "sAaAzXlByZgF"
      }
    },
    {
      "cell_type": "code",
      "source": [
        "indexes = list(range(len(dataset)))\n",
        "\n",
        "train_indexes, val_indexes = train_test_split(indexes, test_size=0.2)\n",
        "\n",
        "data = {}\n",
        "data['train'] = Subset(dataset, train_indexes)\n",
        "data['val'] = Subset(dataset, val_indexes)\n",
        "\n",
        "dataloader_train = DataLoader(dataset = data['train'], batch_size = batch_size, shuffle=False)\n",
        "dataloader_val = DataLoader(dataset = data['val'], batch_size = batch_size, shuffle=False)"
      ],
      "metadata": {
        "id": "uorADrOYv5It"
      },
      "execution_count": 16,
      "outputs": []
    },
    {
      "cell_type": "code",
      "source": [
        "print(len(train_indexes), len(val_indexes))"
      ],
      "metadata": {
        "colab": {
          "base_uri": "https://localhost:8080/"
        },
        "id": "wRIjKnNnv_yf",
        "outputId": "75d2f3d6-5aab-405c-e9c4-3f9db1aa2cdd"
      },
      "execution_count": 17,
      "outputs": [
        {
          "output_type": "stream",
          "name": "stdout",
          "text": [
            "40000 10000\n"
          ]
        }
      ]
    },
    {
      "cell_type": "markdown",
      "source": [
        "#Show Images"
      ],
      "metadata": {
        "id": "O9q3_QShz1YP"
      }
    },
    {
      "cell_type": "code",
      "source": [
        "def images_show(images, lbls=None):\n",
        "  for i in range(4):\n",
        "    plt.subplot(1, 4, i + 1)\n",
        "    img = images[i].numpy().transpose((1, 2, 0)) #numpy로 변환\n",
        "\n",
        "    img = img * std + mean\n",
        "    img = np.clip(img, a_min=0, a_max=1)\n",
        "    plt.imshow(img)\n",
        "\n",
        "    if lbls != None:\n",
        "\n",
        "      plt.title(dataset.annot_dict_reversed[lbls[i].item()])\n",
        "    plt.axis('off')\n",
        "    plt.tight_layout(pad=0.5)\n",
        "    plt.show()"
      ],
      "metadata": {
        "id": "KscBI39pyYtB"
      },
      "execution_count": 19,
      "outputs": []
    },
    {
      "cell_type": "markdown",
      "source": [
        "# Pretrained Model upload - resnet152"
      ],
      "metadata": {
        "id": "A_uW1oah0q_V"
      }
    },
    {
      "cell_type": "code",
      "source": [
        "model = models.resnet152(pretrained=True)\n",
        "\n",
        "num_ftrs = model.fc.in_features\n",
        "\n",
        "model.classifier = nn.Sequential(\n",
        "                        nn.Linear(num_ftrs, 256),\n",
        "                        nn.ReLU(),\n",
        "                        nn.Dropout(0.3),\n",
        "                        nn.Linear(256, 10))\n",
        "\n",
        "model_wts = copy.deepcopy(model.state_dict())\n",
        "\n",
        "model = model.to(device)\n",
        "criterion = nn.CrossEntropyLoss()\n",
        "\n",
        "optimizer = optim.SGD(model.parameters(), lr=lr)"
      ],
      "metadata": {
        "colab": {
          "base_uri": "https://localhost:8080/"
        },
        "id": "a80uGqMC0AZf",
        "outputId": "02649bbd-e38d-4804-f4aa-302c477003cd"
      },
      "execution_count": 20,
      "outputs": [
        {
          "output_type": "stream",
          "name": "stderr",
          "text": [
            "Downloading: \"https://download.pytorch.org/models/resnet152-394f9c45.pth\" to /root/.cache/torch/hub/checkpoints/resnet152-394f9c45.pth\n",
            "100%|██████████| 230M/230M [00:01<00:00, 177MB/s]\n"
          ]
        }
      ]
    },
    {
      "cell_type": "code",
      "source": [
        "def train(\n",
        "        model, criterion, optimizer,\n",
        "        num_epochs, dataloader_train,\n",
        "        dataloader_val = None):\n",
        "\n",
        "  history = {\n",
        "        'loss': [],\n",
        "        'accuracy': [],\n",
        "        'val_loss': [],\n",
        "        'val_accuracy': [],\n",
        "        'best train acc': (0, 0)\n",
        "        }\n",
        "\n",
        "  best_model_wts = copy.deepcopy(model.state_dict())\n",
        "  best_acc = 0.0\n",
        "\n",
        "\n",
        "  for epoch in range(num_epochs):\n",
        "    print('Epoch {}/{}'.format(epoch + 1, num_epochs))\n",
        "\n",
        "    model.train()\n",
        "\n",
        "    n_samples = 0\n",
        "    correct_train = 0\n",
        "    epoch_loss_train = 0\n",
        "    epoch_loss_val = 0\n",
        "\n",
        "\n",
        "    for i, (images, labels) in enumerate(dataloader_train):\n",
        "\n",
        "      images = images.to(device)\n",
        "      labels = labels.to(device)\n",
        "\n",
        "      pred = model(images)\n",
        "\n",
        "      loss = criterion(pred, labels)\n",
        "\n",
        "      epoch_loss_train += labels.shape[0] * loss.item()\n",
        "\n",
        "      optimizer.zero_grad()\n",
        "      loss.backward()\n",
        "      optimizer.step()\n",
        "\n",
        "      value, predicted = torch.max(pred, 1)\n",
        "\n",
        "      n_samples += labels.shape[0] #batch_size + -\n",
        "      correct_train += (predicted==labels).sum().item()\n",
        "\n",
        "    train_acc = 100 * correct_train / n_samples\n",
        "    epoch_loss_train = epoch_loss_train / n_samples\n",
        "\n",
        "    print(f'Train accuracy: {train_acc:.2f}, loss: {epoch_loss_train:.2f}')\n",
        "\n",
        "    history['accuracy'].append(train_acc)\n",
        "    history['loss'].append(epoch_loss_train)\n",
        "\n",
        "    if train_acc > best_acc:\n",
        "\n",
        "      best_acc = train_acc\n",
        "\n",
        "      best_model_wts = copy.deepcopy(model.state_dict())\n",
        "      history['best train acc'] = (epoch, best_acc)\n",
        "\n",
        "\n",
        "\n",
        "    if dataloader_val:\n",
        "\n",
        "      model.eval()\n",
        "\n",
        "      with torch.no_grad():\n",
        "        correct_val = 0\n",
        "        n_samples = 0\n",
        "\n",
        "        for images, labels in dataloader_val:\n",
        "          images = images.to(device)\n",
        "          labels = labels.to(device)\n",
        "\n",
        "          outputs = model(images)\n",
        "\n",
        "          loss = criterion(outputs, labels)\n",
        "          epoch_loss_val += labels.shape[0] * loss.item()\n",
        "\n",
        "          _, pred = torch.max(outputs, 1)\n",
        "          n_samples += labels.shape[0]\n",
        "          correct_val += (pred==labels).sum().item()\n",
        "\n",
        "        val_acc = 100 * correct_val / len(data['val'])\n",
        "        epoch_loss_val = epoch_loss_val / len(data['val'])\n",
        "\n",
        "        print(f'Val accuracy: {val_acc:.2f}, loss: {epoch_loss_val:.2f}')\n",
        "\n",
        "        history['val_accuracy'].append(val_acc)\n",
        "        history['val_loss'].append(epoch_loss_val)\n",
        "\n",
        "    print('=' * 80)\n",
        "\n",
        "  print('Best train acc: {:2f}'.format(best_acc))\n",
        "\n",
        "  model.load_state_dict(best_model_wts)\n",
        "\n",
        "  return model, history"
      ],
      "metadata": {
        "id": "hl7J4-xX00hI"
      },
      "execution_count": 21,
      "outputs": []
    },
    {
      "cell_type": "code",
      "source": [
        "model, history = train(model, criterion, optimizer, num_epochs,\n",
        "                       dataloader_train, dataloader_val)"
      ],
      "metadata": {
        "colab": {
          "base_uri": "https://localhost:8080/"
        },
        "id": "tX161f011asp",
        "outputId": "5e7bf630-b37d-4cc3-f706-b29be948c749"
      },
      "execution_count": 24,
      "outputs": [
        {
          "output_type": "stream",
          "name": "stdout",
          "text": [
            "Epoch 1/3\n",
            "Train accuracy: 89.54, loss: 0.35\n",
            "Val accuracy: 95.37, loss: 0.14\n",
            "================================================================================\n",
            "Epoch 2/3\n",
            "Train accuracy: 98.63, loss: 0.05\n",
            "Val accuracy: 96.75, loss: 0.11\n",
            "================================================================================\n",
            "Epoch 3/3\n",
            "Train accuracy: 99.91, loss: 0.01\n",
            "Val accuracy: 96.93, loss: 0.11\n",
            "================================================================================\n",
            "Best train acc: 99.905000\n"
          ]
        }
      ]
    },
    {
      "cell_type": "code",
      "source": [
        "def plot_history(history):\n",
        "\n",
        "    loss = history['loss']\n",
        "    accuracy = history['accuracy']\n",
        "    val_loss = history['val_loss']\n",
        "    val_accuracy = history['val_accuracy']\n",
        "    x = range(len(loss))\n",
        "\n",
        "    plt.figure(figsize = (12,5))\n",
        "    plt.subplot(1,2,1)\n",
        "    plt.plot(x, accuracy, label='Training acc', color='#03045e', linewidth=2)\\\n",
        "\n",
        "    if len(val_loss) != 0:\n",
        "        plt.plot(x, val_accuracy, label='Validation acc', color='#48cae4', linewidth=2)\n",
        "    plt.plot(history['best train acc'][0],\n",
        "    history['best train acc'][1],\n",
        "    'bo', label='Best train acc', markersize=7, color='black')\n",
        "    plt.title('Accuracy')\n",
        "    plt.grid(True)\n",
        "    plt.legend()\n",
        "    plt.subplot(1, 2, 2)\n",
        "\n",
        "\n",
        "    plt.plot(x, loss, label='Training loss', color='#03045e', linewidth=2)\n",
        "    if len(val_loss) != 0:\n",
        "        plt.plot(x, val_loss, label='Validation loss', color='#48cae4', linewidth=2)\n",
        "    plt.title('Loss')\n",
        "    plt.grid(True)\n",
        "    plt.legend()"
      ],
      "metadata": {
        "id": "qik1wxQQ1c6i"
      },
      "execution_count": 27,
      "outputs": []
    },
    {
      "cell_type": "markdown",
      "source": [
        "# Learning Curve"
      ],
      "metadata": {
        "id": "wYpTKpy09Xzk"
      }
    },
    {
      "cell_type": "code",
      "source": [
        "plot_history(history)"
      ],
      "metadata": {
        "colab": {
          "base_uri": "https://localhost:8080/",
          "height": 378
        },
        "id": "HDYuHNcm9WVm",
        "outputId": "d37b5caf-e6f5-42cb-82fe-1099b7a7abbd"
      },
      "execution_count": 28,
      "outputs": [
        {
          "output_type": "display_data",
          "data": {
            "text/plain": [
              "<Figure size 1200x500 with 2 Axes>"
            ],
            "image/png": "[encoded data removed]"
          },
          "metadata": {}
        }
      ]
    },
    {
      "cell_type": "markdown",
      "source": [
        "#Evaluate"
      ],
      "metadata": {
        "id": "JPCHzZUp-8wM"
      }
    },
    {
      "cell_type": "code",
      "source": [
        "def evaluate(model, dataloader):\n",
        "\n",
        "  with torch.no_grad():\n",
        "    model.eval()\n",
        "    n_correct = 0\n",
        "    n_samples = 0\n",
        "\n",
        "    for images, labels in dataloader:\n",
        "      images = images.to(device)\n",
        "      labels = labels.to(device)\n",
        "\n",
        "      outputs = model(images)\n",
        "\n",
        "      # value, index\n",
        "      v, pred = torch.max(outputs, 1)\n",
        "\n",
        "      n_samples += labels.shape[0]\n",
        "      n_correct += (pred==labels).sum().item()\n",
        "\n",
        "    acc = 100.0 * n_correct / n_samples\n",
        "    print(acc)"
      ],
      "metadata": {
        "id": "RFhHAA7P--Tz"
      },
      "execution_count": 33,
      "outputs": []
    },
    {
      "cell_type": "code",
      "source": [
        "evaluate(model, dataloader_val)"
      ],
      "metadata": {
        "colab": {
          "base_uri": "https://localhost:8080/"
        },
        "id": "bnJeiFdO_mBq",
        "outputId": "873d2460-7ce4-402f-9f71-c02eecc324ee"
      },
      "execution_count": 34,
      "outputs": [
        {
          "output_type": "stream",
          "name": "stdout",
          "text": [
            "96.93\n"
          ]
        }
      ]
    },
    {
      "cell_type": "code",
      "source": [],
      "metadata": {
        "id": "BG6pDr2OCNtH"
      },
      "execution_count": null,
      "outputs": []
    }
  ]
}